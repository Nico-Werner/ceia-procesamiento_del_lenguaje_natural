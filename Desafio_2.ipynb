{
  "cells": [
    {
      "cell_type": "markdown",
      "metadata": {
        "id": "sZd5yLnnHOK0"
      },
      "source": [
        "<img src=\"https://github.com/hernancontigiani/ceia_memorias_especializacion/raw/master/Figures/logoFIUBA.jpg\" width=\"500\" align=\"center\">\n",
        "\n",
        "\n",
        "# Procesamiento de lenguaje natural\n",
        "## Custom embedddings con Gensim\n",
        "\n"
      ]
    },
    {
      "cell_type": "markdown",
      "metadata": {
        "id": "vA7nqkumo9z9"
      },
      "source": [
        "### Objetivo\n",
        "El objetivo es utilizar documentos / corpus para crear embeddings de palabras basado en ese contexto. Se utilizará canciones de bandas para generar los embeddings, es decir, que los vectores tendrán la forma en función de como esa banda haya utilizado las palabras en sus canciones."
      ]
    },
    {
      "cell_type": "code",
      "source": [
        "!pip install --upgrade numpy==1.24.0\n",
        "!pip install --upgrade --force-reinstall gensim"
      ],
      "metadata": {
        "colab": {
          "base_uri": "https://localhost:8080/",
          "height": 1000
        },
        "id": "nijFMijWr9NK",
        "outputId": "eb2fd530-19a7-4364-c76b-d555b62d2006"
      },
      "execution_count": 2,
      "outputs": [
        {
          "output_type": "stream",
          "name": "stdout",
          "text": [
            "Collecting numpy==1.24.0\n",
            "  Downloading numpy-1.24.0-cp311-cp311-manylinux_2_17_x86_64.manylinux2014_x86_64.whl.metadata (5.6 kB)\n",
            "Downloading numpy-1.24.0-cp311-cp311-manylinux_2_17_x86_64.manylinux2014_x86_64.whl (17.3 MB)\n",
            "\u001b[2K   \u001b[90m━━━━━━━━━━━━━━━━━━━━━━━━━━━━━━━━━━━━━━━━\u001b[0m \u001b[32m17.3/17.3 MB\u001b[0m \u001b[31m98.0 MB/s\u001b[0m eta \u001b[36m0:00:00\u001b[0m\n",
            "\u001b[?25hInstalling collected packages: numpy\n",
            "  Attempting uninstall: numpy\n",
            "    Found existing installation: numpy 2.0.2\n",
            "    Uninstalling numpy-2.0.2:\n",
            "      Successfully uninstalled numpy-2.0.2\n",
            "\u001b[31mERROR: pip's dependency resolver does not currently take into account all the packages that are installed. This behaviour is the source of the following dependency conflicts.\n",
            "thinc 8.3.6 requires numpy<3.0.0,>=2.0.0, but you have numpy 1.24.0 which is incompatible.\n",
            "jax 0.5.2 requires numpy>=1.25, but you have numpy 1.24.0 which is incompatible.\n",
            "blosc2 3.4.0 requires numpy>=1.26, but you have numpy 1.24.0 which is incompatible.\n",
            "pymc 5.23.0 requires numpy>=1.25.0, but you have numpy 1.24.0 which is incompatible.\n",
            "seaborn 0.13.2 requires numpy!=1.24.0,>=1.20, but you have numpy 1.24.0 which is incompatible.\n",
            "treescope 0.1.9 requires numpy>=1.25.2, but you have numpy 1.24.0 which is incompatible.\n",
            "jaxlib 0.5.1 requires numpy>=1.25, but you have numpy 1.24.0 which is incompatible.\n",
            "albumentations 2.0.8 requires numpy>=1.24.4, but you have numpy 1.24.0 which is incompatible.\n",
            "xarray-einstats 0.9.0 requires numpy>=1.25, but you have numpy 1.24.0 which is incompatible.\n",
            "chex 0.1.89 requires numpy>=1.24.1, but you have numpy 1.24.0 which is incompatible.\n",
            "imbalanced-learn 0.13.0 requires numpy<3,>=1.24.3, but you have numpy 1.24.0 which is incompatible.\n",
            "tensorflow 2.18.0 requires numpy<2.1.0,>=1.26.0, but you have numpy 1.24.0 which is incompatible.\n",
            "albucore 0.0.24 requires numpy>=1.24.4, but you have numpy 1.24.0 which is incompatible.\u001b[0m\u001b[31m\n",
            "\u001b[0mSuccessfully installed numpy-1.24.0\n"
          ]
        },
        {
          "output_type": "display_data",
          "data": {
            "application/vnd.colab-display-data+json": {
              "pip_warning": {
                "packages": [
                  "numpy"
                ]
              },
              "id": "aee17c103ff0433aa57c15c95d33c02e"
            }
          },
          "metadata": {}
        },
        {
          "output_type": "stream",
          "name": "stdout",
          "text": [
            "Collecting gensim\n",
            "  Downloading gensim-4.3.3-cp311-cp311-manylinux_2_17_x86_64.manylinux2014_x86_64.whl.metadata (8.1 kB)\n",
            "Collecting numpy<2.0,>=1.18.5 (from gensim)\n",
            "  Downloading numpy-1.26.4-cp311-cp311-manylinux_2_17_x86_64.manylinux2014_x86_64.whl.metadata (61 kB)\n",
            "\u001b[2K     \u001b[90m━━━━━━━━━━━━━━━━━━━━━━━━━━━━━━━━━━━━━━━━\u001b[0m \u001b[32m61.0/61.0 kB\u001b[0m \u001b[31m2.1 MB/s\u001b[0m eta \u001b[36m0:00:00\u001b[0m\n",
            "\u001b[?25hCollecting scipy<1.14.0,>=1.7.0 (from gensim)\n",
            "  Downloading scipy-1.13.1-cp311-cp311-manylinux_2_17_x86_64.manylinux2014_x86_64.whl.metadata (60 kB)\n",
            "\u001b[2K     \u001b[90m━━━━━━━━━━━━━━━━━━━━━━━━━━━━━━━━━━━━━━━━\u001b[0m \u001b[32m60.6/60.6 kB\u001b[0m \u001b[31m2.1 MB/s\u001b[0m eta \u001b[36m0:00:00\u001b[0m\n",
            "\u001b[?25hCollecting smart-open>=1.8.1 (from gensim)\n",
            "  Downloading smart_open-7.1.0-py3-none-any.whl.metadata (24 kB)\n",
            "Collecting wrapt (from smart-open>=1.8.1->gensim)\n",
            "  Downloading wrapt-1.17.2-cp311-cp311-manylinux_2_5_x86_64.manylinux1_x86_64.manylinux_2_17_x86_64.manylinux2014_x86_64.whl.metadata (6.4 kB)\n",
            "Downloading gensim-4.3.3-cp311-cp311-manylinux_2_17_x86_64.manylinux2014_x86_64.whl (26.7 MB)\n",
            "\u001b[2K   \u001b[90m━━━━━━━━━━━━━━━━━━━━━━━━━━━━━━━━━━━━━━━━\u001b[0m \u001b[32m26.7/26.7 MB\u001b[0m \u001b[31m73.8 MB/s\u001b[0m eta \u001b[36m0:00:00\u001b[0m\n",
            "\u001b[?25hDownloading numpy-1.26.4-cp311-cp311-manylinux_2_17_x86_64.manylinux2014_x86_64.whl (18.3 MB)\n",
            "\u001b[2K   \u001b[90m━━━━━━━━━━━━━━━━━━━━━━━━━━━━━━━━━━━━━━━━\u001b[0m \u001b[32m18.3/18.3 MB\u001b[0m \u001b[31m96.6 MB/s\u001b[0m eta \u001b[36m0:00:00\u001b[0m\n",
            "\u001b[?25hDownloading scipy-1.13.1-cp311-cp311-manylinux_2_17_x86_64.manylinux2014_x86_64.whl (38.6 MB)\n",
            "\u001b[2K   \u001b[90m━━━━━━━━━━━━━━━━━━━━━━━━━━━━━━━━━━━━━━━━\u001b[0m \u001b[32m38.6/38.6 MB\u001b[0m \u001b[31m13.6 MB/s\u001b[0m eta \u001b[36m0:00:00\u001b[0m\n",
            "\u001b[?25hDownloading smart_open-7.1.0-py3-none-any.whl (61 kB)\n",
            "\u001b[2K   \u001b[90m━━━━━━━━━━━━━━━━━━━━━━━━━━━━━━━━━━━━━━━━\u001b[0m \u001b[32m61.7/61.7 kB\u001b[0m \u001b[31m6.6 MB/s\u001b[0m eta \u001b[36m0:00:00\u001b[0m\n",
            "\u001b[?25hDownloading wrapt-1.17.2-cp311-cp311-manylinux_2_5_x86_64.manylinux1_x86_64.manylinux_2_17_x86_64.manylinux2014_x86_64.whl (83 kB)\n",
            "\u001b[2K   \u001b[90m━━━━━━━━━━━━━━━━━━━━━━━━━━━━━━━━━━━━━━━━\u001b[0m \u001b[32m83.2/83.2 kB\u001b[0m \u001b[31m7.5 MB/s\u001b[0m eta \u001b[36m0:00:00\u001b[0m\n",
            "\u001b[?25hInstalling collected packages: wrapt, numpy, smart-open, scipy, gensim\n",
            "  Attempting uninstall: wrapt\n",
            "    Found existing installation: wrapt 1.17.2\n",
            "    Uninstalling wrapt-1.17.2:\n",
            "      Successfully uninstalled wrapt-1.17.2\n",
            "  Attempting uninstall: numpy\n",
            "    Found existing installation: numpy 1.24.0\n",
            "    Uninstalling numpy-1.24.0:\n",
            "      Successfully uninstalled numpy-1.24.0\n",
            "  Attempting uninstall: smart-open\n",
            "    Found existing installation: smart-open 7.1.0\n",
            "    Uninstalling smart-open-7.1.0:\n",
            "      Successfully uninstalled smart-open-7.1.0\n",
            "  Attempting uninstall: scipy\n",
            "    Found existing installation: scipy 1.15.3\n",
            "    Uninstalling scipy-1.15.3:\n",
            "      Successfully uninstalled scipy-1.15.3\n",
            "\u001b[31mERROR: pip's dependency resolver does not currently take into account all the packages that are installed. This behaviour is the source of the following dependency conflicts.\n",
            "thinc 8.3.6 requires numpy<3.0.0,>=2.0.0, but you have numpy 1.26.4 which is incompatible.\n",
            "tsfresh 0.21.0 requires scipy>=1.14.0; python_version >= \"3.10\", but you have scipy 1.13.1 which is incompatible.\u001b[0m\u001b[31m\n",
            "\u001b[0mSuccessfully installed gensim-4.3.3 numpy-1.26.4 scipy-1.13.1 smart-open-7.1.0 wrapt-1.17.2\n"
          ]
        },
        {
          "output_type": "display_data",
          "data": {
            "application/vnd.colab-display-data+json": {
              "pip_warning": {
                "packages": [
                  "numpy"
                ]
              },
              "id": "a82dc3ba2823472e960af0c17cf3a9e7"
            }
          },
          "metadata": {}
        }
      ]
    },
    {
      "cell_type": "code",
      "execution_count": 1,
      "metadata": {
        "id": "lFToQs5FK5uZ"
      },
      "outputs": [],
      "source": [
        "import pandas as pd\n",
        "import matplotlib.pyplot as plt\n",
        "import seaborn as sns\n",
        "\n",
        "import multiprocessing\n",
        "from gensim.models import Word2Vec"
      ]
    },
    {
      "cell_type": "markdown",
      "metadata": {
        "id": "g07zJxG7H9vG"
      },
      "source": [
        "### Datos\n",
        "Utilizaremos como dataset canciones de bandas de habla inglesa."
      ]
    },
    {
      "cell_type": "code",
      "execution_count": null,
      "metadata": {
        "id": "l7z4CSBfpR3X",
        "colab": {
          "base_uri": "https://localhost:8080/"
        },
        "outputId": "08d64570-3446-4585-944d-7facab243085"
      },
      "outputs": [
        {
          "output_type": "stream",
          "name": "stdout",
          "text": [
            "--2025-05-25 01:53:51--  http://songs_dataset.zip/\n",
            "Resolving songs_dataset.zip (songs_dataset.zip)... failed: Name or service not known.\n",
            "wget: unable to resolve host address ‘songs_dataset.zip’\n",
            "--2025-05-25 01:53:51--  https://github.com/FIUBA-Posgrado-Inteligencia-Artificial/procesamiento_lenguaje_natural/raw/main/datasets/songs_dataset.zip\n",
            "Resolving github.com (github.com)... 140.82.114.3\n",
            "Connecting to github.com (github.com)|140.82.114.3|:443... connected.\n",
            "HTTP request sent, awaiting response... 302 Found\n",
            "Location: https://raw.githubusercontent.com/FIUBA-Posgrado-Inteligencia-Artificial/procesamiento_lenguaje_natural/main/datasets/songs_dataset.zip [following]\n",
            "--2025-05-25 01:53:51--  https://raw.githubusercontent.com/FIUBA-Posgrado-Inteligencia-Artificial/procesamiento_lenguaje_natural/main/datasets/songs_dataset.zip\n",
            "Resolving raw.githubusercontent.com (raw.githubusercontent.com)... 185.199.108.133, 185.199.109.133, 185.199.110.133, ...\n",
            "Connecting to raw.githubusercontent.com (raw.githubusercontent.com)|185.199.108.133|:443... connected.\n",
            "HTTP request sent, awaiting response... 200 OK\n",
            "Length: 2075036 (2.0M) [application/zip]\n",
            "Saving to: ‘songs_dataset.zip’\n",
            "\n",
            "songs_dataset.zip   100%[===================>]   1.98M  --.-KB/s    in 0.07s   \n",
            "\n",
            "2025-05-25 01:53:51 (28.6 MB/s) - ‘songs_dataset.zip’ saved [2075036/2075036]\n",
            "\n",
            "FINISHED --2025-05-25 01:53:51--\n",
            "Total wall clock time: 0.7s\n",
            "Downloaded: 1 files, 2.0M in 0.07s (28.6 MB/s)\n"
          ]
        }
      ],
      "source": [
        "# Descargar la carpeta de dataset\n",
        "import os\n",
        "import platform\n",
        "if os.access('./songs_dataset', os.F_OK) is False:\n",
        "    if os.access('songs_dataset.zip', os.F_OK) is False:\n",
        "        if platform.system() == 'Windows':\n",
        "            !curl https://raw.githubusercontent.com/FIUBA-Posgrado-Inteligencia-Artificial/procesamiento_lenguaje_natural/main/datasets/songs_dataset.zip -o songs_dataset.zip\n",
        "        else:\n",
        "            !wget songs_dataset.zip https://github.com/FIUBA-Posgrado-Inteligencia-Artificial/procesamiento_lenguaje_natural/raw/main/datasets/songs_dataset.zip\n",
        "    !unzip -q songs_dataset.zip\n",
        "else:\n",
        "    print(\"El dataset ya se encuentra descargado\")"
      ]
    },
    {
      "cell_type": "code",
      "execution_count": null,
      "metadata": {
        "id": "mysGrIw9ljC2",
        "colab": {
          "base_uri": "https://localhost:8080/"
        },
        "outputId": "6006a5c9-bb05-4499-810a-81ec82ab45dd"
      },
      "outputs": [
        {
          "output_type": "execute_result",
          "data": {
            "text/plain": [
              "['johnny-cash.txt',\n",
              " 'lady-gaga.txt',\n",
              " 'eminem.txt',\n",
              " 'r-kelly.txt',\n",
              " 'Lil_Wayne.txt',\n",
              " 'lil-wayne.txt',\n",
              " 'kanye.txt',\n",
              " 'janisjoplin.txt',\n",
              " 'paul-simon.txt',\n",
              " 'Kanye_West.txt',\n",
              " 'michael-jackson.txt',\n",
              " 'rihanna.txt',\n",
              " 'dolly-parton.txt',\n",
              " 'joni-mitchell.txt',\n",
              " 'amy-winehouse.txt',\n",
              " 'bjork.txt',\n",
              " 'missy-elliott.txt',\n",
              " 'alicia-keys.txt',\n",
              " 'prince.txt',\n",
              " 'jimi-hendrix.txt',\n",
              " 'dickinson.txt',\n",
              " 'beatles.txt',\n",
              " 'dj-khaled.txt',\n",
              " 'leonard-cohen.txt',\n",
              " 'lorde.txt',\n",
              " 'bob-marley.txt',\n",
              " 'bob-dylan.txt',\n",
              " 'dr-seuss.txt',\n",
              " 'bruno-mars.txt',\n",
              " 'notorious-big.txt',\n",
              " 'al-green.txt',\n",
              " 'nirvana.txt',\n",
              " 'patti-smith.txt',\n",
              " 'kanye-west.txt',\n",
              " 'ludacris.txt',\n",
              " 'notorious_big.txt',\n",
              " 'drake.txt',\n",
              " 'adele.txt',\n",
              " 'lin-manuel-miranda.txt',\n",
              " 'bieber.txt',\n",
              " 'nursery_rhymes.txt',\n",
              " 'nicki-minaj.txt',\n",
              " 'bruce-springsteen.txt',\n",
              " 'nickelback.txt',\n",
              " 'disney.txt',\n",
              " 'britney-spears.txt',\n",
              " 'cake.txt',\n",
              " 'radiohead.txt',\n",
              " 'blink-182.txt']"
            ]
          },
          "metadata": {},
          "execution_count": 3
        }
      ],
      "source": [
        "# Posibles bandas\n",
        "os.listdir(\"./songs_dataset/\")"
      ]
    },
    {
      "cell_type": "code",
      "execution_count": null,
      "metadata": {
        "id": "ticoqYD1Z3I7",
        "colab": {
          "base_uri": "https://localhost:8080/",
          "height": 262
        },
        "outputId": "ae545ded-d56d-4367-84c5-f3e40975574a"
      },
      "outputs": [
        {
          "output_type": "stream",
          "name": "stderr",
          "text": [
            "<ipython-input-4-91c4bad52ba1>:2: ParserWarning: Falling back to the 'python' engine because the 'c' engine does not support regex separators (separators > 1 char and different from '\\s+' are interpreted as regex); you can avoid this warning by specifying engine='python'.\n",
            "  df = pd.read_csv('songs_dataset/beatles.txt', sep='/n', header=None)\n"
          ]
        },
        {
          "output_type": "execute_result",
          "data": {
            "text/plain": [
              "                                                   0\n",
              "0      Yesterday, all my troubles seemed so far away\n",
              "1        Now it looks as though they're here to stay\n",
              "2  Oh, I believe in yesterday Suddenly, I'm not h...\n",
              "3                  There's a shadow hanging over me.\n",
              "4  Oh, yesterday came suddenly Why she had to go ..."
            ],
            "text/html": [
              "\n",
              "  <div id=\"df-140d0d5f-1e5b-4c4f-87d1-73ace10f327b\" class=\"colab-df-container\">\n",
              "    <div>\n",
              "<style scoped>\n",
              "    .dataframe tbody tr th:only-of-type {\n",
              "        vertical-align: middle;\n",
              "    }\n",
              "\n",
              "    .dataframe tbody tr th {\n",
              "        vertical-align: top;\n",
              "    }\n",
              "\n",
              "    .dataframe thead th {\n",
              "        text-align: right;\n",
              "    }\n",
              "</style>\n",
              "<table border=\"1\" class=\"dataframe\">\n",
              "  <thead>\n",
              "    <tr style=\"text-align: right;\">\n",
              "      <th></th>\n",
              "      <th>0</th>\n",
              "    </tr>\n",
              "  </thead>\n",
              "  <tbody>\n",
              "    <tr>\n",
              "      <th>0</th>\n",
              "      <td>Yesterday, all my troubles seemed so far away</td>\n",
              "    </tr>\n",
              "    <tr>\n",
              "      <th>1</th>\n",
              "      <td>Now it looks as though they're here to stay</td>\n",
              "    </tr>\n",
              "    <tr>\n",
              "      <th>2</th>\n",
              "      <td>Oh, I believe in yesterday Suddenly, I'm not h...</td>\n",
              "    </tr>\n",
              "    <tr>\n",
              "      <th>3</th>\n",
              "      <td>There's a shadow hanging over me.</td>\n",
              "    </tr>\n",
              "    <tr>\n",
              "      <th>4</th>\n",
              "      <td>Oh, yesterday came suddenly Why she had to go ...</td>\n",
              "    </tr>\n",
              "  </tbody>\n",
              "</table>\n",
              "</div>\n",
              "    <div class=\"colab-df-buttons\">\n",
              "\n",
              "  <div class=\"colab-df-container\">\n",
              "    <button class=\"colab-df-convert\" onclick=\"convertToInteractive('df-140d0d5f-1e5b-4c4f-87d1-73ace10f327b')\"\n",
              "            title=\"Convert this dataframe to an interactive table.\"\n",
              "            style=\"display:none;\">\n",
              "\n",
              "  <svg xmlns=\"http://www.w3.org/2000/svg\" height=\"24px\" viewBox=\"0 -960 960 960\">\n",
              "    <path d=\"M120-120v-720h720v720H120Zm60-500h600v-160H180v160Zm220 220h160v-160H400v160Zm0 220h160v-160H400v160ZM180-400h160v-160H180v160Zm440 0h160v-160H620v160ZM180-180h160v-160H180v160Zm440 0h160v-160H620v160Z\"/>\n",
              "  </svg>\n",
              "    </button>\n",
              "\n",
              "  <style>\n",
              "    .colab-df-container {\n",
              "      display:flex;\n",
              "      gap: 12px;\n",
              "    }\n",
              "\n",
              "    .colab-df-convert {\n",
              "      background-color: #E8F0FE;\n",
              "      border: none;\n",
              "      border-radius: 50%;\n",
              "      cursor: pointer;\n",
              "      display: none;\n",
              "      fill: #1967D2;\n",
              "      height: 32px;\n",
              "      padding: 0 0 0 0;\n",
              "      width: 32px;\n",
              "    }\n",
              "\n",
              "    .colab-df-convert:hover {\n",
              "      background-color: #E2EBFA;\n",
              "      box-shadow: 0px 1px 2px rgba(60, 64, 67, 0.3), 0px 1px 3px 1px rgba(60, 64, 67, 0.15);\n",
              "      fill: #174EA6;\n",
              "    }\n",
              "\n",
              "    .colab-df-buttons div {\n",
              "      margin-bottom: 4px;\n",
              "    }\n",
              "\n",
              "    [theme=dark] .colab-df-convert {\n",
              "      background-color: #3B4455;\n",
              "      fill: #D2E3FC;\n",
              "    }\n",
              "\n",
              "    [theme=dark] .colab-df-convert:hover {\n",
              "      background-color: #434B5C;\n",
              "      box-shadow: 0px 1px 3px 1px rgba(0, 0, 0, 0.15);\n",
              "      filter: drop-shadow(0px 1px 2px rgba(0, 0, 0, 0.3));\n",
              "      fill: #FFFFFF;\n",
              "    }\n",
              "  </style>\n",
              "\n",
              "    <script>\n",
              "      const buttonEl =\n",
              "        document.querySelector('#df-140d0d5f-1e5b-4c4f-87d1-73ace10f327b button.colab-df-convert');\n",
              "      buttonEl.style.display =\n",
              "        google.colab.kernel.accessAllowed ? 'block' : 'none';\n",
              "\n",
              "      async function convertToInteractive(key) {\n",
              "        const element = document.querySelector('#df-140d0d5f-1e5b-4c4f-87d1-73ace10f327b');\n",
              "        const dataTable =\n",
              "          await google.colab.kernel.invokeFunction('convertToInteractive',\n",
              "                                                    [key], {});\n",
              "        if (!dataTable) return;\n",
              "\n",
              "        const docLinkHtml = 'Like what you see? Visit the ' +\n",
              "          '<a target=\"_blank\" href=https://colab.research.google.com/notebooks/data_table.ipynb>data table notebook</a>'\n",
              "          + ' to learn more about interactive tables.';\n",
              "        element.innerHTML = '';\n",
              "        dataTable['output_type'] = 'display_data';\n",
              "        await google.colab.output.renderOutput(dataTable, element);\n",
              "        const docLink = document.createElement('div');\n",
              "        docLink.innerHTML = docLinkHtml;\n",
              "        element.appendChild(docLink);\n",
              "      }\n",
              "    </script>\n",
              "  </div>\n",
              "\n",
              "\n",
              "    <div id=\"df-5b496bf5-4c32-47cc-804e-46cddf6f6c37\">\n",
              "      <button class=\"colab-df-quickchart\" onclick=\"quickchart('df-5b496bf5-4c32-47cc-804e-46cddf6f6c37')\"\n",
              "                title=\"Suggest charts\"\n",
              "                style=\"display:none;\">\n",
              "\n",
              "<svg xmlns=\"http://www.w3.org/2000/svg\" height=\"24px\"viewBox=\"0 0 24 24\"\n",
              "     width=\"24px\">\n",
              "    <g>\n",
              "        <path d=\"M19 3H5c-1.1 0-2 .9-2 2v14c0 1.1.9 2 2 2h14c1.1 0 2-.9 2-2V5c0-1.1-.9-2-2-2zM9 17H7v-7h2v7zm4 0h-2V7h2v10zm4 0h-2v-4h2v4z\"/>\n",
              "    </g>\n",
              "</svg>\n",
              "      </button>\n",
              "\n",
              "<style>\n",
              "  .colab-df-quickchart {\n",
              "      --bg-color: #E8F0FE;\n",
              "      --fill-color: #1967D2;\n",
              "      --hover-bg-color: #E2EBFA;\n",
              "      --hover-fill-color: #174EA6;\n",
              "      --disabled-fill-color: #AAA;\n",
              "      --disabled-bg-color: #DDD;\n",
              "  }\n",
              "\n",
              "  [theme=dark] .colab-df-quickchart {\n",
              "      --bg-color: #3B4455;\n",
              "      --fill-color: #D2E3FC;\n",
              "      --hover-bg-color: #434B5C;\n",
              "      --hover-fill-color: #FFFFFF;\n",
              "      --disabled-bg-color: #3B4455;\n",
              "      --disabled-fill-color: #666;\n",
              "  }\n",
              "\n",
              "  .colab-df-quickchart {\n",
              "    background-color: var(--bg-color);\n",
              "    border: none;\n",
              "    border-radius: 50%;\n",
              "    cursor: pointer;\n",
              "    display: none;\n",
              "    fill: var(--fill-color);\n",
              "    height: 32px;\n",
              "    padding: 0;\n",
              "    width: 32px;\n",
              "  }\n",
              "\n",
              "  .colab-df-quickchart:hover {\n",
              "    background-color: var(--hover-bg-color);\n",
              "    box-shadow: 0 1px 2px rgba(60, 64, 67, 0.3), 0 1px 3px 1px rgba(60, 64, 67, 0.15);\n",
              "    fill: var(--button-hover-fill-color);\n",
              "  }\n",
              "\n",
              "  .colab-df-quickchart-complete:disabled,\n",
              "  .colab-df-quickchart-complete:disabled:hover {\n",
              "    background-color: var(--disabled-bg-color);\n",
              "    fill: var(--disabled-fill-color);\n",
              "    box-shadow: none;\n",
              "  }\n",
              "\n",
              "  .colab-df-spinner {\n",
              "    border: 2px solid var(--fill-color);\n",
              "    border-color: transparent;\n",
              "    border-bottom-color: var(--fill-color);\n",
              "    animation:\n",
              "      spin 1s steps(1) infinite;\n",
              "  }\n",
              "\n",
              "  @keyframes spin {\n",
              "    0% {\n",
              "      border-color: transparent;\n",
              "      border-bottom-color: var(--fill-color);\n",
              "      border-left-color: var(--fill-color);\n",
              "    }\n",
              "    20% {\n",
              "      border-color: transparent;\n",
              "      border-left-color: var(--fill-color);\n",
              "      border-top-color: var(--fill-color);\n",
              "    }\n",
              "    30% {\n",
              "      border-color: transparent;\n",
              "      border-left-color: var(--fill-color);\n",
              "      border-top-color: var(--fill-color);\n",
              "      border-right-color: var(--fill-color);\n",
              "    }\n",
              "    40% {\n",
              "      border-color: transparent;\n",
              "      border-right-color: var(--fill-color);\n",
              "      border-top-color: var(--fill-color);\n",
              "    }\n",
              "    60% {\n",
              "      border-color: transparent;\n",
              "      border-right-color: var(--fill-color);\n",
              "    }\n",
              "    80% {\n",
              "      border-color: transparent;\n",
              "      border-right-color: var(--fill-color);\n",
              "      border-bottom-color: var(--fill-color);\n",
              "    }\n",
              "    90% {\n",
              "      border-color: transparent;\n",
              "      border-bottom-color: var(--fill-color);\n",
              "    }\n",
              "  }\n",
              "</style>\n",
              "\n",
              "      <script>\n",
              "        async function quickchart(key) {\n",
              "          const quickchartButtonEl =\n",
              "            document.querySelector('#' + key + ' button');\n",
              "          quickchartButtonEl.disabled = true;  // To prevent multiple clicks.\n",
              "          quickchartButtonEl.classList.add('colab-df-spinner');\n",
              "          try {\n",
              "            const charts = await google.colab.kernel.invokeFunction(\n",
              "                'suggestCharts', [key], {});\n",
              "          } catch (error) {\n",
              "            console.error('Error during call to suggestCharts:', error);\n",
              "          }\n",
              "          quickchartButtonEl.classList.remove('colab-df-spinner');\n",
              "          quickchartButtonEl.classList.add('colab-df-quickchart-complete');\n",
              "        }\n",
              "        (() => {\n",
              "          let quickchartButtonEl =\n",
              "            document.querySelector('#df-5b496bf5-4c32-47cc-804e-46cddf6f6c37 button');\n",
              "          quickchartButtonEl.style.display =\n",
              "            google.colab.kernel.accessAllowed ? 'block' : 'none';\n",
              "        })();\n",
              "      </script>\n",
              "    </div>\n",
              "\n",
              "    </div>\n",
              "  </div>\n"
            ],
            "application/vnd.google.colaboratory.intrinsic+json": {
              "type": "dataframe",
              "variable_name": "df",
              "summary": "{\n  \"name\": \"df\",\n  \"rows\": 1846,\n  \"fields\": [\n    {\n      \"column\": 0,\n      \"properties\": {\n        \"dtype\": \"string\",\n        \"num_unique_values\": 1380,\n        \"samples\": [\n          \"I just need someone to love\",\n          \"Well it's my birthday too--yeah\",\n          \"Yes, you can radiate everything you are\"\n        ],\n        \"semantic_type\": \"\",\n        \"description\": \"\"\n      }\n    }\n  ]\n}"
            }
          },
          "metadata": {},
          "execution_count": 4
        }
      ],
      "source": [
        "# Armar el dataset utilizando salto de línea para separar las oraciones/docs\n",
        "df = pd.read_csv('songs_dataset/beatles.txt', sep='/n', header=None)\n",
        "df.head()"
      ]
    },
    {
      "cell_type": "code",
      "execution_count": null,
      "metadata": {
        "id": "LEpKubK9XzXN",
        "colab": {
          "base_uri": "https://localhost:8080/"
        },
        "outputId": "1f0af20c-6864-45d7-f932-6e4b3d3fc87f"
      },
      "outputs": [
        {
          "output_type": "stream",
          "name": "stdout",
          "text": [
            "Cantidad de documentos: 1846\n"
          ]
        }
      ],
      "source": [
        "print(\"Cantidad de documentos:\", df.shape[0])"
      ]
    },
    {
      "cell_type": "markdown",
      "metadata": {
        "id": "ab94qaFlrA1G"
      },
      "source": [
        "### 1 - Preprocesamiento"
      ]
    },
    {
      "cell_type": "code",
      "execution_count": null,
      "metadata": {
        "id": "rIsmMWmjrDHd"
      },
      "outputs": [],
      "source": [
        "from tensorflow.keras.preprocessing.text import text_to_word_sequence\n",
        "\n",
        "sentence_tokens = []\n",
        "# Recorrer todas las filas y transformar las oraciones\n",
        "# en una secuencia de palabras (esto podría realizarse con NLTK o spaCy también)\n",
        "for _, row in df[:None].iterrows():\n",
        "    sentence_tokens.append(text_to_word_sequence(row[0]))"
      ]
    },
    {
      "cell_type": "code",
      "execution_count": null,
      "metadata": {
        "id": "CHepi_DGrbhq",
        "colab": {
          "base_uri": "https://localhost:8080/"
        },
        "outputId": "7a876bb6-1ede-4aa3-d2c0-b92d5ce663f6"
      },
      "outputs": [
        {
          "output_type": "execute_result",
          "data": {
            "text/plain": [
              "[['yesterday', 'all', 'my', 'troubles', 'seemed', 'so', 'far', 'away'],\n",
              " ['now', 'it', 'looks', 'as', 'though', \"they're\", 'here', 'to', 'stay']]"
            ]
          },
          "metadata": {},
          "execution_count": 8
        }
      ],
      "source": [
        "# Demos un vistazo\n",
        "sentence_tokens[:2]"
      ]
    },
    {
      "cell_type": "markdown",
      "metadata": {
        "id": "BaXV6nlHr5Aa"
      },
      "source": [
        "### 2 - Crear los vectores (word2vec)"
      ]
    },
    {
      "cell_type": "code",
      "execution_count": null,
      "metadata": {
        "id": "OSb0v7h8r7hK"
      },
      "outputs": [],
      "source": [
        "from gensim.models.callbacks import CallbackAny2Vec\n",
        "# Durante el entrenamiento gensim por defecto no informa el \"loss\" en cada época\n",
        "# Sobrecargamos el callback para poder tener esta información\n",
        "class callback(CallbackAny2Vec):\n",
        "    \"\"\"\n",
        "    Callback to print loss after each epoch\n",
        "    \"\"\"\n",
        "    def __init__(self):\n",
        "        self.epoch = 0\n",
        "\n",
        "    def on_epoch_end(self, model):\n",
        "        loss = model.get_latest_training_loss()\n",
        "        if self.epoch == 0:\n",
        "            print('Loss after epoch {}: {}'.format(self.epoch, loss))\n",
        "        else:\n",
        "            print('Loss after epoch {}: {}'.format(self.epoch, loss- self.loss_previous_step))\n",
        "        self.epoch += 1\n",
        "        self.loss_previous_step = loss"
      ]
    },
    {
      "cell_type": "code",
      "execution_count": null,
      "metadata": {
        "id": "i0wnDdv9sJ47"
      },
      "outputs": [],
      "source": [
        "# Crearmos el modelo generador de vectores\n",
        "# En este caso utilizaremos la estructura modelo Skipgram\n",
        "w2v_model = Word2Vec(min_count=5,    # frecuencia mínima de palabra para incluirla en el vocabulario\n",
        "                     window=2,       # cant de palabras antes y desp de la predicha\n",
        "                     vector_size=300,       # dimensionalidad de los vectores\n",
        "                     negative=20,    # cantidad de negative samples... 0 es no se usa\n",
        "                     workers=1,      # si tienen más cores pueden cambiar este valor\n",
        "                     sg=1)           # modelo 0:CBOW  1:skipgram"
      ]
    },
    {
      "cell_type": "code",
      "execution_count": null,
      "metadata": {
        "id": "5lTt8wErsf17"
      },
      "outputs": [],
      "source": [
        "# Obtener el vocabulario con los tokens\n",
        "w2v_model.build_vocab(sentence_tokens)"
      ]
    },
    {
      "cell_type": "code",
      "execution_count": null,
      "metadata": {
        "id": "TNc9qt4os5AT",
        "colab": {
          "base_uri": "https://localhost:8080/"
        },
        "outputId": "30b6477f-fc9c-4394-ef45-706f6f7dfc1b"
      },
      "outputs": [
        {
          "output_type": "stream",
          "name": "stdout",
          "text": [
            "Cantidad de docs en el corpus: 1846\n"
          ]
        }
      ],
      "source": [
        "# Cantidad de filas/docs encontradas en el corpus\n",
        "print(\"Cantidad de docs en el corpus:\", w2v_model.corpus_count)"
      ]
    },
    {
      "cell_type": "code",
      "execution_count": null,
      "metadata": {
        "id": "idw9cHF3tSMl",
        "colab": {
          "base_uri": "https://localhost:8080/"
        },
        "outputId": "fe7027a1-2e46-41a6-d67e-4c3a5071c432"
      },
      "outputs": [
        {
          "output_type": "stream",
          "name": "stdout",
          "text": [
            "Cantidad de words distintas en el corpus: 445\n"
          ]
        }
      ],
      "source": [
        "# Cantidad de words encontradas en el corpus\n",
        "print(\"Cantidad de words distintas en el corpus:\", len(w2v_model.wv.index_to_key))"
      ]
    },
    {
      "cell_type": "markdown",
      "metadata": {
        "id": "fC9mZ8DPk-UC"
      },
      "source": [
        "### 3 - Entrenar embeddings"
      ]
    },
    {
      "cell_type": "code",
      "execution_count": 17,
      "metadata": {
        "id": "QSp-x0PAsq56",
        "colab": {
          "base_uri": "https://localhost:8080/"
        },
        "outputId": "bfa6fed0-f09f-4319-b572-7839f3d44001"
      },
      "outputs": [
        {
          "output_type": "stream",
          "name": "stderr",
          "text": [
            "WARNING:gensim.models.word2vec:Effective 'alpha' higher than previous training cycles\n"
          ]
        },
        {
          "output_type": "stream",
          "name": "stdout",
          "text": [
            "Loss after epoch 0: 234719.609375\n",
            "Loss after epoch 1: 223777.703125\n",
            "Loss after epoch 2: 219639.9375\n",
            "Loss after epoch 3: 216009.8125\n",
            "Loss after epoch 4: 212712.5625\n",
            "Loss after epoch 5: 214823.75\n",
            "Loss after epoch 6: 208489.125\n",
            "Loss after epoch 7: 207527.25\n",
            "Loss after epoch 8: 196377.875\n",
            "Loss after epoch 9: 198291.875\n",
            "Loss after epoch 10: 176515.5\n",
            "Loss after epoch 11: 173916.5\n",
            "Loss after epoch 12: 172297.0\n",
            "Loss after epoch 13: 179080.75\n",
            "Loss after epoch 14: 169395.0\n",
            "Loss after epoch 15: 175530.0\n",
            "Loss after epoch 16: 175349.5\n",
            "Loss after epoch 17: 173170.25\n",
            "Loss after epoch 18: 172937.0\n",
            "Loss after epoch 19: 163188.25\n",
            "Loss after epoch 20: 163943.25\n",
            "Loss after epoch 21: 168307.0\n",
            "Loss after epoch 22: 153601.5\n",
            "Loss after epoch 23: 145921.0\n",
            "Loss after epoch 24: 146073.0\n",
            "Loss after epoch 25: 143668.0\n",
            "Loss after epoch 26: 182634.0\n",
            "Loss after epoch 27: 145921.0\n",
            "Loss after epoch 28: 150053.5\n",
            "Loss after epoch 29: 152228.5\n",
            "Loss after epoch 30: 180117.5\n",
            "Loss after epoch 31: 180563.5\n",
            "Loss after epoch 32: 143169.0\n",
            "Loss after epoch 33: 141624.5\n",
            "Loss after epoch 34: 148921.5\n",
            "Loss after epoch 35: 141416.5\n",
            "Loss after epoch 36: 139934.0\n",
            "Loss after epoch 37: 146308.0\n",
            "Loss after epoch 38: 139310.0\n",
            "Loss after epoch 39: 139860.0\n",
            "Loss after epoch 40: 136343.0\n",
            "Loss after epoch 41: 140378.0\n",
            "Loss after epoch 42: 138063.5\n",
            "Loss after epoch 43: 137850.5\n",
            "Loss after epoch 44: 137913.0\n",
            "Loss after epoch 45: 137480.0\n",
            "Loss after epoch 46: 137557.5\n",
            "Loss after epoch 47: 136391.5\n",
            "Loss after epoch 48: 136974.0\n",
            "Loss after epoch 49: 142611.5\n",
            "Loss after epoch 50: 133014.0\n",
            "Loss after epoch 51: 122622.0\n",
            "Loss after epoch 52: 121482.0\n",
            "Loss after epoch 53: 122160.0\n",
            "Loss after epoch 54: 121526.0\n",
            "Loss after epoch 55: 127070.0\n",
            "Loss after epoch 56: 120568.0\n",
            "Loss after epoch 57: 121378.0\n",
            "Loss after epoch 58: 122114.0\n",
            "Loss after epoch 59: 126223.0\n",
            "Loss after epoch 60: 120876.0\n",
            "Loss after epoch 61: 120801.0\n",
            "Loss after epoch 62: 120258.0\n",
            "Loss after epoch 63: 126301.0\n",
            "Loss after epoch 64: 125620.0\n",
            "Loss after epoch 65: 120835.0\n",
            "Loss after epoch 66: 125151.0\n",
            "Loss after epoch 67: 124797.0\n",
            "Loss after epoch 68: 119323.0\n",
            "Loss after epoch 69: 119213.0\n",
            "Loss after epoch 70: 123305.0\n",
            "Loss after epoch 71: 117568.0\n",
            "Loss after epoch 72: 123234.0\n",
            "Loss after epoch 73: 122700.0\n",
            "Loss after epoch 74: 118140.0\n",
            "Loss after epoch 75: 117896.0\n",
            "Loss after epoch 76: 117786.0\n",
            "Loss after epoch 77: 148532.0\n",
            "Loss after epoch 78: 120160.0\n",
            "Loss after epoch 79: 145696.0\n",
            "Loss after epoch 80: 116960.0\n",
            "Loss after epoch 81: 116435.0\n",
            "Loss after epoch 82: 122466.0\n",
            "Loss after epoch 83: 115594.0\n",
            "Loss after epoch 84: 120525.0\n",
            "Loss after epoch 85: 120969.0\n",
            "Loss after epoch 86: 116444.0\n",
            "Loss after epoch 87: 115231.0\n",
            "Loss after epoch 88: 114725.0\n",
            "Loss after epoch 89: 116127.0\n",
            "Loss after epoch 90: 114332.0\n",
            "Loss after epoch 91: 118975.0\n",
            "Loss after epoch 92: 114884.0\n",
            "Loss after epoch 93: 119907.0\n",
            "Loss after epoch 94: 114438.0\n",
            "Loss after epoch 95: 113760.0\n",
            "Loss after epoch 96: 115822.0\n",
            "Loss after epoch 97: 118345.0\n",
            "Loss after epoch 98: 120130.0\n",
            "Loss after epoch 99: 114572.0\n"
          ]
        },
        {
          "output_type": "execute_result",
          "data": {
            "text/plain": [
              "(5012713, 7867200)"
            ]
          },
          "metadata": {},
          "execution_count": 17
        }
      ],
      "source": [
        "# Entrenamos el modelo generador de vectores\n",
        "# Utilizamos nuestro callback\n",
        "w2v_model.train(sentence_tokens,\n",
        "                 total_examples=w2v_model.corpus_count,\n",
        "                 epochs=100,\n",
        "                 compute_loss = True,\n",
        "                 callbacks=[callback()]\n",
        "                 )"
      ]
    },
    {
      "cell_type": "markdown",
      "metadata": {
        "id": "ddT9NVuNlCAe"
      },
      "source": [
        "### 4 - Ensayar"
      ]
    },
    {
      "cell_type": "code",
      "execution_count": 18,
      "metadata": {
        "id": "6cHN9xGLuPEm",
        "colab": {
          "base_uri": "https://localhost:8080/"
        },
        "outputId": "d53b3dc0-a1b9-4152-c624-736bee323ffc"
      },
      "outputs": [
        {
          "output_type": "execute_result",
          "data": {
            "text/plain": [
              "[('boy', 0.5792440176010132),\n",
              " ('“dear', 0.560568630695343),\n",
              " ('pride', 0.5295901894569397),\n",
              " ('indefatigable', 0.5277661681175232),\n",
              " ('born', 0.5274312496185303),\n",
              " ('child', 0.5261365175247192),\n",
              " ('moritz', 0.5202217698097229),\n",
              " ('unhappy', 0.5184493660926819),\n",
              " ('“alas', 0.5093929767608643),\n",
              " ('“why', 0.5048097968101501)]"
            ]
          },
          "metadata": {},
          "execution_count": 18
        }
      ],
      "source": [
        "# Palabras que MÁS se relacionan con...:\n",
        "w2v_model.wv.most_similar(positive=[\"darling\"], topn=10)"
      ]
    },
    {
      "cell_type": "code",
      "execution_count": 19,
      "metadata": {
        "id": "47HiU5gdkdMq",
        "colab": {
          "base_uri": "https://localhost:8080/"
        },
        "outputId": "697ddb1d-12e8-4dec-fd82-e1908f777261"
      },
      "outputs": [
        {
          "output_type": "execute_result",
          "data": {
            "text/plain": [
              "[('arrived', 0.1390155553817749),\n",
              " ('giving', 0.12716878950595856),\n",
              " ('beneath', 0.12363604456186295),\n",
              " ('hovel', 0.10982587188482285),\n",
              " ('at', 0.09615113586187363),\n",
              " ('white', 0.09509008377790451),\n",
              " ('proceeded', 0.09034094959497452),\n",
              " ('spent', 0.0831797793507576),\n",
              " ('performed', 0.08197586238384247),\n",
              " ('fatal', 0.07569104433059692)]"
            ]
          },
          "metadata": {},
          "execution_count": 19
        }
      ],
      "source": [
        "# Palabras que MENOS se relacionan con...:\n",
        "w2v_model.wv.most_similar(negative=[\"love\"], topn=10)"
      ]
    },
    {
      "cell_type": "code",
      "execution_count": null,
      "metadata": {
        "id": "DT4Rvno2mD65",
        "colab": {
          "base_uri": "https://localhost:8080/"
        },
        "outputId": "fed48ec0-a5b1-4da4-8571-93abdc84bd0a"
      },
      "outputs": [
        {
          "output_type": "execute_result",
          "data": {
            "text/plain": [
              "[('five', 0.9786694049835205),\n",
              " ('three', 0.9761051535606384),\n",
              " ('six', 0.966891348361969),\n",
              " ('two', 0.9565720558166504),\n",
              " ('seven', 0.954232931137085),\n",
              " ('sixty', 0.9003373980522156),\n",
              " ('one', 0.816501259803772),\n",
              " ('us', 0.7762899398803711),\n",
              " ('crying', 0.772737979888916),\n",
              " ('strawberry', 0.7672452330589294)]"
            ]
          },
          "metadata": {},
          "execution_count": 22
        }
      ],
      "source": [
        "# Palabras que MÁS se relacionan con...:\n",
        "w2v_model.wv.most_similar(positive=[\"four\"], topn=10)"
      ]
    },
    {
      "cell_type": "code",
      "execution_count": null,
      "metadata": {
        "id": "XPLDPgzBmQXt",
        "colab": {
          "base_uri": "https://localhost:8080/"
        },
        "outputId": "28c88d3d-31d6-4317-8dea-ce518ef4814e"
      },
      "outputs": [
        {
          "output_type": "execute_result",
          "data": {
            "text/plain": [
              "[(\"can't\", 0.9409592747688293),\n",
              " ('buy', 0.9399508237838745),\n",
              " ('much', 0.8996850848197937),\n",
              " ('hide', 0.8465201258659363),\n",
              " ('just', 0.8415144085884094)]"
            ]
          },
          "metadata": {},
          "execution_count": 26
        }
      ],
      "source": [
        "# Palabras que MÁS se relacionan con...:\n",
        "w2v_model.wv.most_similar(positive=[\"money\"], topn=5)"
      ]
    },
    {
      "cell_type": "code",
      "execution_count": null,
      "metadata": {
        "id": "L_UvHPMMklOr",
        "colab": {
          "base_uri": "https://localhost:8080/",
          "height": 311
        },
        "outputId": "640ea687-8756-4983-9961-3a643d5cde2a"
      },
      "outputs": [
        {
          "output_type": "error",
          "ename": "KeyError",
          "evalue": "\"Key 'diedaa' not present in vocabulary\"",
          "traceback": [
            "\u001b[0;31m---------------------------------------------------------------------------\u001b[0m",
            "\u001b[0;31mKeyError\u001b[0m                                  Traceback (most recent call last)",
            "\u001b[0;32m<ipython-input-27-93d902aa5dab>\u001b[0m in \u001b[0;36m<cell line: 0>\u001b[0;34m()\u001b[0m\n\u001b[1;32m      1\u001b[0m \u001b[0;31m# Ensayar con una palabra que no está en el vocabulario:\u001b[0m\u001b[0;34m\u001b[0m\u001b[0;34m\u001b[0m\u001b[0m\n\u001b[0;32m----> 2\u001b[0;31m \u001b[0mw2v_model\u001b[0m\u001b[0;34m.\u001b[0m\u001b[0mwv\u001b[0m\u001b[0;34m.\u001b[0m\u001b[0mmost_similar\u001b[0m\u001b[0;34m(\u001b[0m\u001b[0mnegative\u001b[0m\u001b[0;34m=\u001b[0m\u001b[0;34m[\u001b[0m\u001b[0;34m\"diedaa\"\u001b[0m\u001b[0;34m]\u001b[0m\u001b[0;34m)\u001b[0m\u001b[0;34m\u001b[0m\u001b[0;34m\u001b[0m\u001b[0m\n\u001b[0m",
            "\u001b[0;32m/usr/local/lib/python3.11/dist-packages/gensim/models/keyedvectors.py\u001b[0m in \u001b[0;36mmost_similar\u001b[0;34m(self, positive, negative, topn, clip_start, clip_end, restrict_vocab, indexer)\u001b[0m\n\u001b[1;32m    839\u001b[0m \u001b[0;34m\u001b[0m\u001b[0m\n\u001b[1;32m    840\u001b[0m         \u001b[0;31m# compute the weighted average of all keys\u001b[0m\u001b[0;34m\u001b[0m\u001b[0;34m\u001b[0m\u001b[0m\n\u001b[0;32m--> 841\u001b[0;31m         \u001b[0mmean\u001b[0m \u001b[0;34m=\u001b[0m \u001b[0mself\u001b[0m\u001b[0;34m.\u001b[0m\u001b[0mget_mean_vector\u001b[0m\u001b[0;34m(\u001b[0m\u001b[0mkeys\u001b[0m\u001b[0;34m,\u001b[0m \u001b[0mweight\u001b[0m\u001b[0;34m,\u001b[0m \u001b[0mpre_normalize\u001b[0m\u001b[0;34m=\u001b[0m\u001b[0;32mTrue\u001b[0m\u001b[0;34m,\u001b[0m \u001b[0mpost_normalize\u001b[0m\u001b[0;34m=\u001b[0m\u001b[0;32mTrue\u001b[0m\u001b[0;34m,\u001b[0m \u001b[0mignore_missing\u001b[0m\u001b[0;34m=\u001b[0m\u001b[0;32mFalse\u001b[0m\u001b[0;34m)\u001b[0m\u001b[0;34m\u001b[0m\u001b[0;34m\u001b[0m\u001b[0m\n\u001b[0m\u001b[1;32m    842\u001b[0m         all_keys = [\n\u001b[1;32m    843\u001b[0m             \u001b[0mself\u001b[0m\u001b[0;34m.\u001b[0m\u001b[0mget_index\u001b[0m\u001b[0;34m(\u001b[0m\u001b[0mkey\u001b[0m\u001b[0;34m)\u001b[0m \u001b[0;32mfor\u001b[0m \u001b[0mkey\u001b[0m \u001b[0;32min\u001b[0m \u001b[0mkeys\u001b[0m \u001b[0;32mif\u001b[0m \u001b[0misinstance\u001b[0m\u001b[0;34m(\u001b[0m\u001b[0mkey\u001b[0m\u001b[0;34m,\u001b[0m \u001b[0m_KEY_TYPES\u001b[0m\u001b[0;34m)\u001b[0m \u001b[0;32mand\u001b[0m \u001b[0mself\u001b[0m\u001b[0;34m.\u001b[0m\u001b[0mhas_index_for\u001b[0m\u001b[0;34m(\u001b[0m\u001b[0mkey\u001b[0m\u001b[0;34m)\u001b[0m\u001b[0;34m\u001b[0m\u001b[0;34m\u001b[0m\u001b[0m\n",
            "\u001b[0;32m/usr/local/lib/python3.11/dist-packages/gensim/models/keyedvectors.py\u001b[0m in \u001b[0;36mget_mean_vector\u001b[0;34m(self, keys, weights, pre_normalize, post_normalize, ignore_missing)\u001b[0m\n\u001b[1;32m    516\u001b[0m                 \u001b[0mtotal_weight\u001b[0m \u001b[0;34m+=\u001b[0m \u001b[0mabs\u001b[0m\u001b[0;34m(\u001b[0m\u001b[0mweights\u001b[0m\u001b[0;34m[\u001b[0m\u001b[0midx\u001b[0m\u001b[0;34m]\u001b[0m\u001b[0;34m)\u001b[0m\u001b[0;34m\u001b[0m\u001b[0;34m\u001b[0m\u001b[0m\n\u001b[1;32m    517\u001b[0m             \u001b[0;32melif\u001b[0m \u001b[0;32mnot\u001b[0m \u001b[0mignore_missing\u001b[0m\u001b[0;34m:\u001b[0m\u001b[0;34m\u001b[0m\u001b[0;34m\u001b[0m\u001b[0m\n\u001b[0;32m--> 518\u001b[0;31m                 \u001b[0;32mraise\u001b[0m \u001b[0mKeyError\u001b[0m\u001b[0;34m(\u001b[0m\u001b[0;34mf\"Key '{key}' not present in vocabulary\"\u001b[0m\u001b[0;34m)\u001b[0m\u001b[0;34m\u001b[0m\u001b[0;34m\u001b[0m\u001b[0m\n\u001b[0m\u001b[1;32m    519\u001b[0m \u001b[0;34m\u001b[0m\u001b[0m\n\u001b[1;32m    520\u001b[0m         \u001b[0;32mif\u001b[0m \u001b[0mtotal_weight\u001b[0m \u001b[0;34m>\u001b[0m \u001b[0;36m0\u001b[0m\u001b[0;34m:\u001b[0m\u001b[0;34m\u001b[0m\u001b[0;34m\u001b[0m\u001b[0m\n",
            "\u001b[0;31mKeyError\u001b[0m: \"Key 'diedaa' not present in vocabulary\""
          ]
        }
      ],
      "source": [
        "# Ensayar con una palabra que no está en el vocabulario:\n",
        "w2v_model.wv.most_similar(negative=[\"diedaa\"])"
      ]
    },
    {
      "cell_type": "code",
      "execution_count": null,
      "metadata": {
        "id": "cJFO-Bl_qLSl",
        "colab": {
          "base_uri": "https://localhost:8080/"
        },
        "outputId": "3538fc92-e954-4c84-ba61-ca7e1b3c0c94"
      },
      "outputs": [
        {
          "output_type": "stream",
          "name": "stdout",
          "text": [
            "[ 0.17736822  0.21460655 -0.05408018  0.06707036  0.13059464 -0.25713933\n",
            "  0.00711611  0.26743424 -0.03100746  0.259963    0.21179457 -0.08465387\n",
            " -0.26272097  0.308386   -0.07934437 -0.13357355  0.2994755   0.18062147\n",
            " -0.13111673 -0.11857472  0.03468326  0.1125607   0.08478875  0.08090881\n",
            " -0.17622267  0.03122034 -0.08725598  0.23746666 -0.11507358 -0.29119617\n",
            " -0.03650665 -0.3322312   0.23262788  0.10366543 -0.18365337  0.08299578\n",
            "  0.14315338 -0.19761457 -0.00757894  0.1119568  -0.10421463 -0.13083619\n",
            " -0.03264419 -0.04687435  0.11330808  0.10231452 -0.16202034 -0.10347028\n",
            "  0.03659901 -0.08524423 -0.34872082 -0.02154255  0.25938764  0.16540806\n",
            "  0.0310861   0.09505633  0.24452917 -0.09859891  0.18298703  0.0645447\n",
            "  0.016967   -0.3259168  -0.04774074 -0.05418535 -0.04338397 -0.09137302\n",
            "  0.00889874  0.11636022 -0.25662988  0.05426472  0.08915784  0.04541444\n",
            "  0.20835714 -0.19101828  0.32210803  0.19337991  0.09080223 -0.00362429\n",
            " -0.18664253 -0.07053486 -0.1213743  -0.03477469 -0.15798187  0.39070287\n",
            " -0.06144987  0.11083187 -0.16213974 -0.24604863  0.15004653  0.41447446\n",
            " -0.02289782 -0.17896852 -0.07827526 -0.22193784  0.02855509  0.48533952\n",
            "  0.04447097  0.12464199 -0.04169935  0.1982593  -0.15919553 -0.08606501\n",
            "  0.1320642   0.07071835  0.30667147  0.08809892 -0.19750106  0.23502588\n",
            " -0.07388738  0.04295443 -0.24779157 -0.28854167 -0.4401632   0.00458563\n",
            " -0.07824975  0.18824083  0.05077408 -0.05739668  0.15620743 -0.48762608\n",
            "  0.1922928   0.08314091  0.04989756  0.02644576 -0.06825414  0.35304525\n",
            "  0.17191295 -0.16261117 -0.2936474   0.29585826  0.34883434  0.13242614\n",
            "  0.20136862 -0.45008007  0.10677742  0.29548344  0.05580255 -0.10513617\n",
            " -0.18692017 -0.00885901  0.01701376 -0.16563897 -0.11337513  0.06720471\n",
            "  0.15243004 -0.00960089 -0.0473961  -0.08677159 -0.07125839  0.16441917\n",
            "  0.00310922 -0.36776385  0.08532935  0.06346983 -0.02668795  0.22113207\n",
            " -0.2441667   0.02439994 -0.00925008  0.23633759 -0.10890642  0.11366176\n",
            " -0.0994612   0.21860765  0.01365219  0.01017555 -0.1882097   0.25845018\n",
            "  0.30251107  0.03778573  0.206645    0.22037302  0.16829754  0.04512674\n",
            "  0.01971447 -0.36934844  0.0328729  -0.20335236  0.12939689  0.04162559\n",
            "  0.02085797 -0.10500363 -0.17457162 -0.28335714 -0.08274048 -0.04555536\n",
            " -0.11861075 -0.03437103  0.0255297  -0.2554016   0.17146216  0.05093628\n",
            "  0.0917547  -0.06427904 -0.16107002  0.19086204 -0.10930005 -0.18050742\n",
            " -0.06337117  0.01224837 -0.09302392  0.22475737  0.30700293 -0.26619977\n",
            "  0.2305236   0.00149169  0.13293476  0.02429233  0.07883647 -0.09135374\n",
            " -0.17123872 -0.3664065   0.3834617  -0.21642369  0.30520016 -0.05142065\n",
            " -0.36278993 -0.23481902  0.05347933 -0.33067894 -0.01501467  0.07849759\n",
            "  0.01582254 -0.111112    0.25853142 -0.1510902   0.07833586  0.03887907\n",
            "  0.06565052 -0.10252414 -0.02964626 -0.17363134  0.01443172  0.14266178\n",
            " -0.2042187   0.03214323 -0.1629491   0.23105827 -0.08103111 -0.07967328\n",
            "  0.13010906 -0.15625998  0.0689413  -0.03020397 -0.04729844 -0.24360013\n",
            "  0.2185359  -0.0347794   0.05899534  0.17103592  0.02150829  0.2957355\n",
            "  0.11162414 -0.16905093 -0.18563178 -0.19697626  0.3415001   0.18426846\n",
            " -0.20898484 -0.06920402  0.02646237 -0.33699226  0.0361828  -0.02290664\n",
            " -0.04528077 -0.02644458  0.27353263  0.2873995  -0.03061444  0.13751149\n",
            "  0.05503082  0.02680384  0.05629698  0.03125441  0.27008575  0.18144625\n",
            "  0.04076385  0.18558657 -0.10238926 -0.05794458  0.04535891 -0.09978388\n",
            " -0.17145762 -0.15288326  0.09159966  0.05247529  0.00280528  0.00947132\n",
            "  0.23113796  0.0304687   0.11368281  0.35986233  0.15569495 -0.02521801\n",
            "  0.35871565  0.3222857   0.00839845  0.1805266   0.1312731  -0.31311095]\n"
          ]
        }
      ],
      "source": [
        "# el método `get_vector` permite obtener los vectores:\n",
        "vector_love = w2v_model.wv.get_vector(\"love\")\n",
        "print(vector_love)"
      ]
    },
    {
      "cell_type": "code",
      "execution_count": null,
      "metadata": {
        "id": "MDyjqI7HqLSl",
        "colab": {
          "base_uri": "https://localhost:8080/"
        },
        "outputId": "2cb3a0e4-61a5-4d99-c98a-a6c65af29c6c"
      },
      "outputs": [
        {
          "output_type": "execute_result",
          "data": {
            "text/plain": [
              "[('love', 1.0),\n",
              " ('babe', 0.9132986068725586),\n",
              " ('someone', 0.8914992809295654),\n",
              " ('nothing', 0.8811879754066467),\n",
              " ('need', 0.8758756518363953),\n",
              " (\"didn't\", 0.8689683079719543),\n",
              " (\"there's\", 0.8557919859886169),\n",
              " ('you', 0.8447725772857666),\n",
              " ('feed', 0.8422104716300964),\n",
              " ('somebody', 0.8385539054870605)]"
            ]
          },
          "metadata": {},
          "execution_count": 25
        }
      ],
      "source": [
        "# el método `most_similar` también permite comparar a partir de vectores\n",
        "w2v_model.wv.most_similar(vector_love)"
      ]
    },
    {
      "cell_type": "code",
      "execution_count": null,
      "metadata": {
        "id": "hsMw6EzWqLSl",
        "colab": {
          "base_uri": "https://localhost:8080/"
        },
        "outputId": "e98dacfd-ad59-4004-91c7-bfcdb47d83e1"
      },
      "outputs": [
        {
          "output_type": "execute_result",
          "data": {
            "text/plain": [
              "[('babe', 0.9132986068725586),\n",
              " ('someone', 0.8914992809295654),\n",
              " ('nothing', 0.8811879754066467),\n",
              " ('need', 0.8758756518363953),\n",
              " (\"didn't\", 0.8689682483673096),\n",
              " (\"there's\", 0.8557919859886169),\n",
              " ('you', 0.8447725772857666),\n",
              " ('feed', 0.8422104716300964),\n",
              " ('somebody', 0.8385538458824158),\n",
              " ('hope', 0.8361446261405945)]"
            ]
          },
          "metadata": {},
          "execution_count": 17
        }
      ],
      "source": [
        "# Palabras que MÁS se relacionan con...:\n",
        "w2v_model.wv.most_similar(positive=[\"love\"], topn=10)"
      ]
    },
    {
      "cell_type": "markdown",
      "metadata": {
        "id": "_g8UVWe6lFmh"
      },
      "source": [
        "### 5 - Visualizar agrupación de vectores"
      ]
    },
    {
      "cell_type": "code",
      "execution_count": null,
      "metadata": {
        "id": "pDxEVXAivjr9"
      },
      "outputs": [],
      "source": [
        "from sklearn.decomposition import IncrementalPCA\n",
        "from sklearn.manifold import TSNE\n",
        "import numpy as np\n",
        "\n",
        "def reduce_dimensions(model, num_dimensions = 2 ):\n",
        "\n",
        "    vectors = np.asarray(model.wv.vectors)\n",
        "    labels = np.asarray(model.wv.index_to_key)\n",
        "\n",
        "    tsne = TSNE(n_components=num_dimensions, random_state=0)\n",
        "    vectors = tsne.fit_transform(vectors)\n",
        "\n",
        "    return vectors, labels"
      ]
    },
    {
      "cell_type": "code",
      "execution_count": null,
      "metadata": {
        "id": "NCCXtDpcugmd",
        "colab": {
          "base_uri": "https://localhost:8080/",
          "height": 542
        },
        "outputId": "21b86ea0-e750-4f23-ef58-b67f5d10c833"
      },
      "outputs": [
        {
          "output_type": "display_data",
          "data": {
            "text/html": [
              "<html>\n",
              "<head><meta charset=\"utf-8\" /></head>\n",
              "<body>\n",
              "    <div>            <script src=\"https://cdnjs.cloudflare.com/ajax/libs/mathjax/2.7.5/MathJax.js?config=TeX-AMS-MML_SVG\"></script><script type=\"text/javascript\">if (window.MathJax && window.MathJax.Hub && window.MathJax.Hub.Config) {window.MathJax.Hub.Config({SVG: {font: \"STIX-Web\"}});}</script>                <script type=\"text/javascript\">window.PlotlyConfig = {MathJaxConfig: 'local'};</script>\n",
              "        <script charset=\"utf-8\" src=\"https://cdn.plot.ly/plotly-2.35.2.min.js\"></script>                <div id=\"c3e4a0af-318c-4ec4-a8e4-54629129e546\" class=\"plotly-graph-div\" style=\"height:525px; width:100%;\"></div>            <script type=\"text/javascript\">                                    window.PLOTLYENV=window.PLOTLYENV || {};                                    if (document.getElementById(\"c3e4a0af-318c-4ec4-a8e4-54629129e546\")) {                    Plotly.newPlot(                        \"c3e4a0af-318c-4ec4-a8e4-54629129e546\",                        [{\"hovertemplate\":\"x=%{x}\\u003cbr\\u003ey=%{y}\\u003cbr\\u003etext=%{text}\\u003cextra\\u003e\\u003c\\u002fextra\\u003e\",\"legendgroup\":\"\",\"marker\":{\"color\":\"#636efa\",\"symbol\":\"circle\"},\"mode\":\"markers+text\",\"name\":\"\",\"orientation\":\"v\",\"showlegend\":false,\"text\":[\"you\",\"i\",\"the\",\"to\",\"and\",\"love\",\"a\",\"me\",\"in\",\"all\",\"nah\",\"my\",\"it\",\"know\",\"that\",\"be\",\"on\",\"of\",\"she\",\"is\",\"say\",\"now\",\"oh\",\"your\",\"yeah\",\"get\",\"don't\",\"back\",\"with\",\"let\",\"her\",\"can\",\"it's\",\"do\",\"when\",\"come\",\"i'm\",\"will\",\"he\",\"but\",\"for\",\"so\",\"there\",\"need\",\"like\",\"together\",\"no\",\"i'll\",\"see\",\"we\",\"was\",\"never\",\"down\",\"if\",\"way\",\"want\",\"hey\",\"out\",\"one\",\"got\",\"can't\",\"girl\",\"well\",\"good\",\"go\",\"sun\",\"his\",\"hello\",\"home\",\"they\",\"day\",\"are\",\"ah\",\"right\",\"from\",\"little\",\"at\",\"man\",\"help\",\"here\",\"have\",\"gonna\",\"not\",\"world\",\"what\",\"going\",\"how\",\"please\",\"still\",\"too\",\"just\",\"you're\",\"time\",\"as\",\"make\",\"long\",\"yes\",\"yellow\",\"life\",\"once\",\"sky\",\"been\",\"think\",\"tell\",\"why\",\"only\",\"where\",\"people\",\"she's\",\"eyes\",\"jude\",\"take\",\"submarine\",\"up\",\"hold\",\"goodbye\",\"give\",\"nowhere\",\"sing\",\"look\",\"friends\",\"always\",\"hand\",\"boy\",\"we're\",\"am\",\"away\",\"darling\",\"goo\",\"nothing\",\"should\",\"lonely\",\"could\",\"feel\",\"some\",\"night\",\"comes\",\"had\",\"would\",\"better\",\"head\",\"them\",\"four\",\"buy\",\"more\",\"i've\",\"la\",\"mind\",\"two\",\"this\",\"everything\",\"carry\",\"by\",\"our\",\"sunshine\",\"weight\",\"change\",\"us\",\"lucy\",\"birthday\",\"an\",\"true\",\"you'll\",\"every\",\"pretty\",\"three\",\"diamonds\",\"before\",\"believe\",\"these\",\"i'd\",\"words\",\"mm\",\"work\",\"dear\",\"leave\",\"were\",\"mine\",\"there's\",\"nobody\",\"told\",\"money\",\"bom\",\"said\",\"forever\",\"round\",\"children\",\"'cause\",\"something\",\"about\",\"waiting\",\"standing\",\"who\",\"didn't\",\"try\",\"loves\",\"then\",\"hide\",\"saw\",\"prudence\"],\"x\":[18.872622,17.393732,-2.8846288,-0.97423005,0.044842485,18.311497,-10.320224,20.912634,-4.050039,8.125332,7.825026,4.7579823,-1.4631484,15.4565,12.5884905,0.813646,-16.113478,-4.648069,-6.5027676,0.87689024,17.639603,8.116212,19.430168,23.923494,-5.8084188,-21.506475,14.947083,-21.054585,-3.0286522,1.9745259,8.911015,13.122544,13.857744,19.199362,16.103258,-16.332525,-3.0019822,19.996538,4.682024,13.015641,10.913601,17.468336,-22.013144,19.395332,21.746157,8.479634,18.408926,5.5663266,13.511602,-8.981023,-21.858614,17.235506,2.4562767,15.35738,-19.349766,22.928524,7.8949656,-15.87685,-23.232704,8.861171,18.749731,-19.894106,1.4936578,-11.138405,-10.5806055,-3.6630192,-6.933736,18.521935,-20.351147,-6.0664473,-11.311505,-4.288513,-20.996984,9.079769,2.061989,1.5233874,-22.22982,-9.7998085,2.8789527,-3.67067,-5.0079703,12.222034,9.093615,11.590753,16.76784,-3.9762018,10.28522,22.130344,19.82113,14.027867,10.176442,13.729363,12.805083,3.5113058,5.5588264,12.562923,15.813417,-9.338786,1.5728625,-21.909666,-4.041812,-0.1987591,15.77045,17.835632,16.876387,9.070675,-21.403679,-14.065837,7.728681,-4.6376243,7.848679,2.8100877,-9.340405,-11.86546,23.875004,18.337984,10.372153,-8.766918,11.668065,-22.072832,2.4685714,3.8917978,23.803844,14.003281,-13.785389,15.800621,9.841054,3.9924872,-18.062735,17.248184,13.515589,-14.619035,14.525272,11.531771,-4.017148,-1.2221783,-3.668963,-8.514224,13.153338,5.9749455,-5.708099,2.6895652,-22.048412,18.771067,9.184359,7.292957,-10.787585,2.8916824,-22.56983,8.462837,8.679992,13.022348,-11.385116,-18.654568,-11.242218,12.964866,12.112936,-8.036324,-3.7485645,11.615347,-1.3545911,3.6322248,13.177712,-9.083461,-13.758215,-22.21805,-3.4754,11.7441845,17.622667,-4.3383384,7.8536296,0.23427866,-12.598358,-15.941999,-13.052498,7.0230517,4.642183,-7.1924934,15.330927,1.9708188,17.28783,18.507996,-15.309603,-3.5579762,5.4294105,3.8105268,-10.705755,-2.9218376,-0.10766374,4.3300467,7.9249434,2.7862067,-9.034586,17.537266,-12.07046,-6.039207,-9.318948,9.733457,6.4859433,-13.306625],\"xaxis\":\"x\",\"y\":[6.0820546,13.535245,-14.376274,7.2410645,-1.1202862,1.602137,-11.375073,6.3308487,-17.024067,-18.9724,23.005295,-16.091894,20.14266,14.786448,-5.856191,18.762362,-2.44749,-14.058829,14.016015,-13.350794,15.619868,-19.167482,10.589211,1.3836415,15.345513,-6.9285154,15.547115,-6.9350395,-19.251713,19.684902,-0.4491427,7.117222,-0.86726266,9.016582,7.237774,-2.318614,12.443612,3.6615005,7.2621894,8.565309,-7.684123,8.358075,-10.981239,2.2209663,7.849643,-19.962307,11.831033,15.597994,4.3773036,-18.682201,-10.54992,11.052665,19.006365,5.7918425,-9.317969,1.9999573,22.03751,-0.23844893,10.118733,15.281105,-2.5682468,-1.9159528,11.225613,18.588755,15.780931,-25.140535,-14.661485,16.63457,-7.1264157,1.2593312,19.12827,2.3184524,1.0190032,-19.553318,-20.126059,-20.421362,0.920095,-13.469078,-20.49444,-25.155048,3.2580657,-11.446733,7.127765,-13.313698,12.000706,10.416506,10.275177,9.244991,3.0970187,-5.236863,14.154863,-11.754782,-6.6911016,-4.0478563,18.993084,-8.273829,20.01784,-20.47347,-16.368427,-9.263003,-19.717508,-6.162465,10.716967,5.3841166,15.859849,-7.013452,-8.527582,-15.933191,-2.5884175,-15.908677,21.971745,17.41373,-20.473923,-5.322717,2.585005,16.4892,15.946046,-14.66864,0.18652219,0.94330794,-20.047703,15.408008,1.5902411,-11.7782755,-3.7308369,20.56117,2.1759276,-9.602603,6.170804,2.6671352,14.131885,-15.776798,11.59916,11.747178,-3.3844762,-7.940625,-25.13598,11.229153,6.3952885,19.349186,-14.664747,-1.6266298,11.7973,-2.5053813,17.507446,13.587547,4.292158,-16.280018,10.7884245,-7.72114,13.274203,-10.599969,-10.388717,-9.890968,18.92297,-9.914496,-12.810532,-7.10825,-19.183405,3.8974156,17.080761,15.655432,12.233817,-5.460762,-10.308886,11.177145,-19.329748,-5.379969,7.8374095,-11.216041,3.22391,15.88887,4.3102984,-0.15209624,-0.042228173,10.380065,-6.179078,3.7661192,2.0031612,5.373316,7.0865784,-2.860535,11.1193495,3.027544,8.86596,-13.115298,16.574867,11.549627,0.59655786,10.419896,-8.425731,-6.8667016,-13.820296,4.5821595,-10.153534,14.792477,1.0177832,14.50173,1.7984698,0.08757181],\"yaxis\":\"y\",\"type\":\"scatter\"}],                        {\"template\":{\"data\":{\"histogram2dcontour\":[{\"type\":\"histogram2dcontour\",\"colorbar\":{\"outlinewidth\":0,\"ticks\":\"\"},\"colorscale\":[[0.0,\"#0d0887\"],[0.1111111111111111,\"#46039f\"],[0.2222222222222222,\"#7201a8\"],[0.3333333333333333,\"#9c179e\"],[0.4444444444444444,\"#bd3786\"],[0.5555555555555556,\"#d8576b\"],[0.6666666666666666,\"#ed7953\"],[0.7777777777777778,\"#fb9f3a\"],[0.8888888888888888,\"#fdca26\"],[1.0,\"#f0f921\"]]}],\"choropleth\":[{\"type\":\"choropleth\",\"colorbar\":{\"outlinewidth\":0,\"ticks\":\"\"}}],\"histogram2d\":[{\"type\":\"histogram2d\",\"colorbar\":{\"outlinewidth\":0,\"ticks\":\"\"},\"colorscale\":[[0.0,\"#0d0887\"],[0.1111111111111111,\"#46039f\"],[0.2222222222222222,\"#7201a8\"],[0.3333333333333333,\"#9c179e\"],[0.4444444444444444,\"#bd3786\"],[0.5555555555555556,\"#d8576b\"],[0.6666666666666666,\"#ed7953\"],[0.7777777777777778,\"#fb9f3a\"],[0.8888888888888888,\"#fdca26\"],[1.0,\"#f0f921\"]]}],\"heatmap\":[{\"type\":\"heatmap\",\"colorbar\":{\"outlinewidth\":0,\"ticks\":\"\"},\"colorscale\":[[0.0,\"#0d0887\"],[0.1111111111111111,\"#46039f\"],[0.2222222222222222,\"#7201a8\"],[0.3333333333333333,\"#9c179e\"],[0.4444444444444444,\"#bd3786\"],[0.5555555555555556,\"#d8576b\"],[0.6666666666666666,\"#ed7953\"],[0.7777777777777778,\"#fb9f3a\"],[0.8888888888888888,\"#fdca26\"],[1.0,\"#f0f921\"]]}],\"heatmapgl\":[{\"type\":\"heatmapgl\",\"colorbar\":{\"outlinewidth\":0,\"ticks\":\"\"},\"colorscale\":[[0.0,\"#0d0887\"],[0.1111111111111111,\"#46039f\"],[0.2222222222222222,\"#7201a8\"],[0.3333333333333333,\"#9c179e\"],[0.4444444444444444,\"#bd3786\"],[0.5555555555555556,\"#d8576b\"],[0.6666666666666666,\"#ed7953\"],[0.7777777777777778,\"#fb9f3a\"],[0.8888888888888888,\"#fdca26\"],[1.0,\"#f0f921\"]]}],\"contourcarpet\":[{\"type\":\"contourcarpet\",\"colorbar\":{\"outlinewidth\":0,\"ticks\":\"\"}}],\"contour\":[{\"type\":\"contour\",\"colorbar\":{\"outlinewidth\":0,\"ticks\":\"\"},\"colorscale\":[[0.0,\"#0d0887\"],[0.1111111111111111,\"#46039f\"],[0.2222222222222222,\"#7201a8\"],[0.3333333333333333,\"#9c179e\"],[0.4444444444444444,\"#bd3786\"],[0.5555555555555556,\"#d8576b\"],[0.6666666666666666,\"#ed7953\"],[0.7777777777777778,\"#fb9f3a\"],[0.8888888888888888,\"#fdca26\"],[1.0,\"#f0f921\"]]}],\"surface\":[{\"type\":\"surface\",\"colorbar\":{\"outlinewidth\":0,\"ticks\":\"\"},\"colorscale\":[[0.0,\"#0d0887\"],[0.1111111111111111,\"#46039f\"],[0.2222222222222222,\"#7201a8\"],[0.3333333333333333,\"#9c179e\"],[0.4444444444444444,\"#bd3786\"],[0.5555555555555556,\"#d8576b\"],[0.6666666666666666,\"#ed7953\"],[0.7777777777777778,\"#fb9f3a\"],[0.8888888888888888,\"#fdca26\"],[1.0,\"#f0f921\"]]}],\"mesh3d\":[{\"type\":\"mesh3d\",\"colorbar\":{\"outlinewidth\":0,\"ticks\":\"\"}}],\"scatter\":[{\"fillpattern\":{\"fillmode\":\"overlay\",\"size\":10,\"solidity\":0.2},\"type\":\"scatter\"}],\"parcoords\":[{\"type\":\"parcoords\",\"line\":{\"colorbar\":{\"outlinewidth\":0,\"ticks\":\"\"}}}],\"scatterpolargl\":[{\"type\":\"scatterpolargl\",\"marker\":{\"colorbar\":{\"outlinewidth\":0,\"ticks\":\"\"}}}],\"bar\":[{\"error_x\":{\"color\":\"#2a3f5f\"},\"error_y\":{\"color\":\"#2a3f5f\"},\"marker\":{\"line\":{\"color\":\"#E5ECF6\",\"width\":0.5},\"pattern\":{\"fillmode\":\"overlay\",\"size\":10,\"solidity\":0.2}},\"type\":\"bar\"}],\"scattergeo\":[{\"type\":\"scattergeo\",\"marker\":{\"colorbar\":{\"outlinewidth\":0,\"ticks\":\"\"}}}],\"scatterpolar\":[{\"type\":\"scatterpolar\",\"marker\":{\"colorbar\":{\"outlinewidth\":0,\"ticks\":\"\"}}}],\"histogram\":[{\"marker\":{\"pattern\":{\"fillmode\":\"overlay\",\"size\":10,\"solidity\":0.2}},\"type\":\"histogram\"}],\"scattergl\":[{\"type\":\"scattergl\",\"marker\":{\"colorbar\":{\"outlinewidth\":0,\"ticks\":\"\"}}}],\"scatter3d\":[{\"type\":\"scatter3d\",\"line\":{\"colorbar\":{\"outlinewidth\":0,\"ticks\":\"\"}},\"marker\":{\"colorbar\":{\"outlinewidth\":0,\"ticks\":\"\"}}}],\"scattermapbox\":[{\"type\":\"scattermapbox\",\"marker\":{\"colorbar\":{\"outlinewidth\":0,\"ticks\":\"\"}}}],\"scatterternary\":[{\"type\":\"scatterternary\",\"marker\":{\"colorbar\":{\"outlinewidth\":0,\"ticks\":\"\"}}}],\"scattercarpet\":[{\"type\":\"scattercarpet\",\"marker\":{\"colorbar\":{\"outlinewidth\":0,\"ticks\":\"\"}}}],\"carpet\":[{\"aaxis\":{\"endlinecolor\":\"#2a3f5f\",\"gridcolor\":\"white\",\"linecolor\":\"white\",\"minorgridcolor\":\"white\",\"startlinecolor\":\"#2a3f5f\"},\"baxis\":{\"endlinecolor\":\"#2a3f5f\",\"gridcolor\":\"white\",\"linecolor\":\"white\",\"minorgridcolor\":\"white\",\"startlinecolor\":\"#2a3f5f\"},\"type\":\"carpet\"}],\"table\":[{\"cells\":{\"fill\":{\"color\":\"#EBF0F8\"},\"line\":{\"color\":\"white\"}},\"header\":{\"fill\":{\"color\":\"#C8D4E3\"},\"line\":{\"color\":\"white\"}},\"type\":\"table\"}],\"barpolar\":[{\"marker\":{\"line\":{\"color\":\"#E5ECF6\",\"width\":0.5},\"pattern\":{\"fillmode\":\"overlay\",\"size\":10,\"solidity\":0.2}},\"type\":\"barpolar\"}],\"pie\":[{\"automargin\":true,\"type\":\"pie\"}]},\"layout\":{\"autotypenumbers\":\"strict\",\"colorway\":[\"#636efa\",\"#EF553B\",\"#00cc96\",\"#ab63fa\",\"#FFA15A\",\"#19d3f3\",\"#FF6692\",\"#B6E880\",\"#FF97FF\",\"#FECB52\"],\"font\":{\"color\":\"#2a3f5f\"},\"hovermode\":\"closest\",\"hoverlabel\":{\"align\":\"left\"},\"paper_bgcolor\":\"white\",\"plot_bgcolor\":\"#E5ECF6\",\"polar\":{\"bgcolor\":\"#E5ECF6\",\"angularaxis\":{\"gridcolor\":\"white\",\"linecolor\":\"white\",\"ticks\":\"\"},\"radialaxis\":{\"gridcolor\":\"white\",\"linecolor\":\"white\",\"ticks\":\"\"}},\"ternary\":{\"bgcolor\":\"#E5ECF6\",\"aaxis\":{\"gridcolor\":\"white\",\"linecolor\":\"white\",\"ticks\":\"\"},\"baxis\":{\"gridcolor\":\"white\",\"linecolor\":\"white\",\"ticks\":\"\"},\"caxis\":{\"gridcolor\":\"white\",\"linecolor\":\"white\",\"ticks\":\"\"}},\"coloraxis\":{\"colorbar\":{\"outlinewidth\":0,\"ticks\":\"\"}},\"colorscale\":{\"sequential\":[[0.0,\"#0d0887\"],[0.1111111111111111,\"#46039f\"],[0.2222222222222222,\"#7201a8\"],[0.3333333333333333,\"#9c179e\"],[0.4444444444444444,\"#bd3786\"],[0.5555555555555556,\"#d8576b\"],[0.6666666666666666,\"#ed7953\"],[0.7777777777777778,\"#fb9f3a\"],[0.8888888888888888,\"#fdca26\"],[1.0,\"#f0f921\"]],\"sequentialminus\":[[0.0,\"#0d0887\"],[0.1111111111111111,\"#46039f\"],[0.2222222222222222,\"#7201a8\"],[0.3333333333333333,\"#9c179e\"],[0.4444444444444444,\"#bd3786\"],[0.5555555555555556,\"#d8576b\"],[0.6666666666666666,\"#ed7953\"],[0.7777777777777778,\"#fb9f3a\"],[0.8888888888888888,\"#fdca26\"],[1.0,\"#f0f921\"]],\"diverging\":[[0,\"#8e0152\"],[0.1,\"#c51b7d\"],[0.2,\"#de77ae\"],[0.3,\"#f1b6da\"],[0.4,\"#fde0ef\"],[0.5,\"#f7f7f7\"],[0.6,\"#e6f5d0\"],[0.7,\"#b8e186\"],[0.8,\"#7fbc41\"],[0.9,\"#4d9221\"],[1,\"#276419\"]]},\"xaxis\":{\"gridcolor\":\"white\",\"linecolor\":\"white\",\"ticks\":\"\",\"title\":{\"standoff\":15},\"zerolinecolor\":\"white\",\"automargin\":true,\"zerolinewidth\":2},\"yaxis\":{\"gridcolor\":\"white\",\"linecolor\":\"white\",\"ticks\":\"\",\"title\":{\"standoff\":15},\"zerolinecolor\":\"white\",\"automargin\":true,\"zerolinewidth\":2},\"scene\":{\"xaxis\":{\"backgroundcolor\":\"#E5ECF6\",\"gridcolor\":\"white\",\"linecolor\":\"white\",\"showbackground\":true,\"ticks\":\"\",\"zerolinecolor\":\"white\",\"gridwidth\":2},\"yaxis\":{\"backgroundcolor\":\"#E5ECF6\",\"gridcolor\":\"white\",\"linecolor\":\"white\",\"showbackground\":true,\"ticks\":\"\",\"zerolinecolor\":\"white\",\"gridwidth\":2},\"zaxis\":{\"backgroundcolor\":\"#E5ECF6\",\"gridcolor\":\"white\",\"linecolor\":\"white\",\"showbackground\":true,\"ticks\":\"\",\"zerolinecolor\":\"white\",\"gridwidth\":2}},\"shapedefaults\":{\"line\":{\"color\":\"#2a3f5f\"}},\"annotationdefaults\":{\"arrowcolor\":\"#2a3f5f\",\"arrowhead\":0,\"arrowwidth\":1},\"geo\":{\"bgcolor\":\"white\",\"landcolor\":\"#E5ECF6\",\"subunitcolor\":\"white\",\"showland\":true,\"showlakes\":true,\"lakecolor\":\"white\"},\"title\":{\"x\":0.05},\"mapbox\":{\"style\":\"light\"}}},\"xaxis\":{\"anchor\":\"y\",\"domain\":[0.0,1.0],\"title\":{\"text\":\"x\"}},\"yaxis\":{\"anchor\":\"x\",\"domain\":[0.0,1.0],\"title\":{\"text\":\"y\"}},\"legend\":{\"tracegroupgap\":0},\"margin\":{\"t\":60}},                        {\"responsive\": true}                    ).then(function(){\n",
              "                            \n",
              "var gd = document.getElementById('c3e4a0af-318c-4ec4-a8e4-54629129e546');\n",
              "var x = new MutationObserver(function (mutations, observer) {{\n",
              "        var display = window.getComputedStyle(gd).display;\n",
              "        if (!display || display === 'none') {{\n",
              "            console.log([gd, 'removed!']);\n",
              "            Plotly.purge(gd);\n",
              "            observer.disconnect();\n",
              "        }}\n",
              "}});\n",
              "\n",
              "// Listen for the removal of the full notebook cells\n",
              "var notebookContainer = gd.closest('#notebook-container');\n",
              "if (notebookContainer) {{\n",
              "    x.observe(notebookContainer, {childList: true});\n",
              "}}\n",
              "\n",
              "// Listen for the clearing of the current output cell\n",
              "var outputEl = gd.closest('.output');\n",
              "if (outputEl) {{\n",
              "    x.observe(outputEl, {childList: true});\n",
              "}}\n",
              "\n",
              "                        })                };                            </script>        </div>\n",
              "</body>\n",
              "</html>"
            ]
          },
          "metadata": {}
        }
      ],
      "source": [
        "# Graficar los embedddings en 2D\n",
        "import plotly.graph_objects as go\n",
        "import plotly.express as px\n",
        "\n",
        "vecs, labels = reduce_dimensions(w2v_model)\n",
        "\n",
        "MAX_WORDS=200\n",
        "fig = px.scatter(x=vecs[:MAX_WORDS,0], y=vecs[:MAX_WORDS,1], text=labels[:MAX_WORDS])\n",
        "fig.show(renderer=\"colab\") # esto para plotly en colab"
      ]
    },
    {
      "cell_type": "code",
      "execution_count": null,
      "metadata": {
        "id": "fEG-irnfqLSm",
        "colab": {
          "base_uri": "https://localhost:8080/",
          "height": 542
        },
        "outputId": "f567ee4a-7ee8-4ed2-98d5-6cc61988dfaf"
      },
      "outputs": [
        {
          "output_type": "display_data",
          "data": {
            "text/html": [
              "<html>\n",
              "<head><meta charset=\"utf-8\" /></head>\n",
              "<body>\n",
              "    <div>            <script src=\"https://cdnjs.cloudflare.com/ajax/libs/mathjax/2.7.5/MathJax.js?config=TeX-AMS-MML_SVG\"></script><script type=\"text/javascript\">if (window.MathJax && window.MathJax.Hub && window.MathJax.Hub.Config) {window.MathJax.Hub.Config({SVG: {font: \"STIX-Web\"}});}</script>                <script type=\"text/javascript\">window.PlotlyConfig = {MathJaxConfig: 'local'};</script>\n",
              "        <script charset=\"utf-8\" src=\"https://cdn.plot.ly/plotly-2.35.2.min.js\"></script>                <div id=\"491854b2-ac94-4008-a7f5-7f82eba60123\" class=\"plotly-graph-div\" style=\"height:525px; width:100%;\"></div>            <script type=\"text/javascript\">                                    window.PLOTLYENV=window.PLOTLYENV || {};                                    if (document.getElementById(\"491854b2-ac94-4008-a7f5-7f82eba60123\")) {                    Plotly.newPlot(                        \"491854b2-ac94-4008-a7f5-7f82eba60123\",                        [{\"hovertemplate\":\"x=%{x}\\u003cbr\\u003ey=%{y}\\u003cbr\\u003ez=%{z}\\u003cbr\\u003etext=%{text}\\u003cextra\\u003e\\u003c\\u002fextra\\u003e\",\"legendgroup\":\"\",\"marker\":{\"color\":\"#636efa\",\"symbol\":\"circle\",\"size\":2},\"mode\":\"markers+text\",\"name\":\"\",\"scene\":\"scene\",\"showlegend\":false,\"text\":[\"you\",\"i\",\"the\",\"to\",\"and\",\"love\",\"a\",\"me\",\"in\",\"all\",\"nah\",\"my\",\"it\",\"know\",\"that\",\"be\",\"on\",\"of\",\"she\",\"is\",\"say\",\"now\",\"oh\",\"your\",\"yeah\",\"get\",\"don't\",\"back\",\"with\",\"let\",\"her\",\"can\",\"it's\",\"do\",\"when\",\"come\",\"i'm\",\"will\",\"he\",\"but\",\"for\",\"so\",\"there\",\"need\",\"like\",\"together\",\"no\",\"i'll\",\"see\",\"we\",\"was\",\"never\",\"down\",\"if\",\"way\",\"want\",\"hey\",\"out\",\"one\",\"got\",\"can't\",\"girl\",\"well\",\"good\",\"go\",\"sun\",\"his\",\"hello\",\"home\",\"they\",\"day\",\"are\",\"ah\",\"right\",\"from\",\"little\",\"at\",\"man\",\"help\",\"here\",\"have\",\"gonna\",\"not\",\"world\",\"what\",\"going\",\"how\",\"please\",\"still\",\"too\",\"just\",\"you're\",\"time\",\"as\",\"make\",\"long\",\"yes\",\"yellow\",\"life\",\"once\",\"sky\",\"been\",\"think\",\"tell\",\"why\",\"only\",\"where\",\"people\",\"she's\",\"eyes\",\"jude\",\"take\",\"submarine\",\"up\",\"hold\",\"goodbye\",\"give\",\"nowhere\",\"sing\",\"look\",\"friends\",\"always\",\"hand\",\"boy\",\"we're\",\"am\",\"away\",\"darling\",\"goo\",\"nothing\",\"should\",\"lonely\",\"could\",\"feel\",\"some\",\"night\",\"comes\",\"had\",\"would\",\"better\",\"head\",\"them\",\"four\",\"buy\",\"more\",\"i've\",\"la\",\"mind\",\"two\",\"this\",\"everything\",\"carry\",\"by\",\"our\",\"sunshine\",\"weight\",\"change\",\"us\",\"lucy\",\"birthday\",\"an\",\"true\",\"you'll\",\"every\",\"pretty\",\"three\",\"diamonds\",\"before\",\"believe\",\"these\",\"i'd\",\"words\",\"mm\",\"work\",\"dear\",\"leave\",\"were\",\"mine\",\"there's\",\"nobody\",\"told\",\"money\",\"bom\",\"said\",\"forever\",\"round\",\"children\",\"'cause\",\"something\",\"about\",\"waiting\",\"standing\",\"who\",\"didn't\",\"try\",\"loves\",\"then\",\"hide\",\"saw\",\"prudence\"],\"x\":[-42.133713,-35.653084,29.06207,-4.95531,-17.543411,-38.58011,24.327885,-39.14185,34.791546,3.7422338,-11.699284,11.819521,-15.966901,-26.669968,-1.3500066,-22.400606,-12.33348,41.80905,-10.59695,17.560957,-29.783056,0.056575496,-35.286194,-31.76406,-9.198725,14.013741,-24.69152,17.749542,31.984842,-26.674822,-3.3299055,-27.657986,-2.561599,-39.88111,-44.216328,-7.9169874,4.1580095,-32.5609,-15.707092,-23.20714,7.815215,-32.065197,10.834766,-34.09543,-36.496273,-0.9758637,-39.223175,-21.080559,-26.33452,31.760359,12.699132,-38.79309,-24.014227,-27.196917,17.121635,-34.510612,-15.51538,-11.579687,23.2507,-29.871363,-36.137115,28.720423,-12.484847,19.074362,8.663316,27.610418,37.648495,-24.795006,18.399235,-7.053345,23.143562,-1.620537,-8.212446,3.6886692,20.80556,20.913454,-7.872108,29.52779,15.589451,23.519379,5.0784187,7.939421,-29.372702,9.173171,-35.168617,9.314144,-15.306363,-42.68974,-33.465816,-5.189465,-30.575151,1.3524128,0.99355906,11.535382,-20.359285,6.190765,-14.778098,41.164246,21.70817,13.282174,34.345257,19.621435,-32.06237,-35.034977,-26.396608,3.9485729,10.333148,35.351524,27.59022,35.76971,-16.137995,-23.382425,40.2417,20.053953,-38.664207,-25.866386,-26.462011,34.97682,-6.7853336,-7.1977644,16.665377,-15.310186,-34.631775,-1.1663865,17.191534,-12.019247,-17.709967,14.159435,-20.527525,-39.442738,-21.330753,36.63178,-26.477674,-26.633005,9.684953,22.046373,24.998173,-4.6897,-27.872795,-20.91749,34.38886,-20.938568,20.990915,-36.417545,-21.58092,-22.620144,-9.878456,18.181961,20.636429,9.01577,-23.999994,6.0498543,22.624184,19.906214,21.647993,5.829395,9.733651,20.077326,36.904083,-19.238947,37.066246,-17.234444,-24.822851,18.91979,17.319748,19.404911,35.313313,-0.69023484,-35.382927,19.474037,-21.649437,-13.74563,-1.0097861,-12.635214,2.6603086,-25.056034,4.950144,-13.305566,-24.677092,-3.7611701,-38.67703,-33.743374,1.5433625,-1.1935961,13.482065,7.8867416,13.1991415,4.748845,0.2346169,-18.855673,13.058847,-1.7065742,29.55481,-35.10993,23.97777,-9.512897,0.5873636,-31.074852,-10.05739,5.700203],\"y\":[6.6248827,24.590399,4.9035096,-24.275215,-25.47714,3.2029757,15.81377,-1.7415488,12.709507,27.51725,17.220812,21.421803,15.589629,23.386597,4.366049,-3.1992273,29.97044,7.8451624,-4.8796024,20.31781,29.228083,28.72143,10.776788,-13.233037,-0.4793233,-21.391863,24.391813,-25.16674,20.425776,-8.578959,25.117132,-6.817895,-11.759477,6.492931,7.546712,31.503773,-0.84461445,15.116035,-9.562106,-4.418275,-1.7886499,3.730279,-36.164276,6.56827,-4.206518,33.1536,16.73317,3.0065367,-7.423821,3.191876,-32.611103,15.586224,-12.015511,8.97071,-24.978914,-6.035535,17.15985,23.20348,6.545978,-0.09201491,-15.971775,-18.852045,-16.898294,-35.310265,-35.557907,-9.694128,0.69926035,32.1518,-21.272842,-19.668688,-32.56551,17.004007,-35.397438,32.04383,30.466927,28.318539,-33.70171,-7.4307103,32.024742,-10.676742,14.863254,13.833554,-15.80641,14.73472,17.717787,-8.688528,17.966478,-1.2190435,11.786606,-1.7546139,-3.742182,12.939892,-1.3367748,9.51697,-17.19761,0.7417211,29.904604,3.2673209,11.783717,-32.384373,21.114346,-9.301035,17.60624,11.182418,29.534363,-7.16753,-27.250872,-11.574826,-22.052635,7.2645307,13.857232,-9.356484,-0.14739811,-14.009472,-10.186085,33.30119,6.4876604,-3.145569,-13.116784,-34.29336,29.02575,2.9931395,-11.100471,13.340836,-22.73847,30.963308,-1.463652,30.738037,-27.110106,0.5433977,22.365217,-15.821047,18.972628,9.583747,12.219645,-11.346998,-6.5376167,-10.070325,-2.2247107,-21.609842,2.7526288,-6.618614,10.902294,-14.461326,4.4771147,-4.782237,-22.949,18.654938,7.349747,-7.7146854,0.33452982,9.197811,20.4654,-23.730188,-32.221134,6.0222254,15.993252,5.654617,18.939335,5.591904,12.810938,-0.59728867,14.63511,-3.6351655,27.27216,11.9907,23.168118,1.4054152,6.6110897,2.3703604,-14.851474,-11.717076,-16.75919,25.217077,-17.693142,-5.467737,7.9807515,-17.302547,9.860886,-2.1318526,7.052293,-18.538046,18.442661,11.794595,5.2019053,13.318204,-32.68656,-3.2324767,7.0069695,-7.6021514,-4.807414,26.132702,-3.2489219,5.80124,24.645557,-3.2096903,-31.458843,1.2807608,16.226755,-19.906979],\"z\":[8.914708,-2.8909485,15.593014,-7.722436,4.2887955,16.083437,-4.2511644,1.1128868,12.853728,15.906337,-33.67985,23.107233,24.058313,-0.9739974,33.101055,29.591183,12.189857,5.575962,-27.27529,14.412536,-6.1868405,14.90828,-14.342859,14.430922,-35.53743,-25.573437,3.9021807,-24.916512,7.761409,28.554592,-8.903431,-3.1156354,31.842096,-8.979014,0.06980826,12.242597,-35.387066,13.610758,-7.3954077,-8.690409,30.37825,-4.018152,-14.913751,18.04875,-4.6183724,17.011711,-0.60810846,19.930843,5.8533163,-12.234325,-16.617208,-7.1227374,25.366053,3.9780717,-15.019452,14.810413,-29.126408,16.843493,-25.05401,-22.902002,-1.5069282,-1.6373419,2.8454278,0.27287123,-1.1911354,25.353209,4.322621,-10.492909,-21.23662,10.174143,-2.011038,-3.953329,-5.2331686,19.48617,9.646334,5.2387547,3.5584562,-6.7235417,6.430873,27.29749,-6.585755,38.132305,-13.653924,27.570532,-11.666231,-29.337402,-9.543284,-7.2294955,17.11755,34.378197,-16.104944,35.496223,33.811897,-11.011891,16.833067,35.90326,-7.479829,-8.969532,25.047693,-22.702257,14.200565,-6.9029098,-1.5550722,5.261322,-1.832449,25.74643,-23.511389,14.31478,4.9986796,11.554766,-31.854567,19.072304,-10.86193,16.738056,12.495059,-6.6500993,-20.884789,-1.7298465,-41.00587,-0.13295992,10.199125,25.934069,15.951682,32.128677,6.2554975,-3.0300272,9.182866,-2.0718787,-16.330084,9.8910475,-4.3381195,11.568252,-10.918139,-12.557604,-2.4229746,1.2084526,27.187489,-20.390167,-0.08146126,15.491171,8.865397,-32.3344,-33.84728,2.4612584,-27.160774,-22.016817,-26.407875,23.586,-29.2247,24.900478,-18.617416,34.427647,-0.77128655,-11.212452,2.0438402,37.685978,32.182713,-12.388192,10.184987,6.193699,-3.0126057,24.335642,-3.889343,-15.830101,-3.7094698,-28.902065,9.506592,28.51874,-1.8463361,17.886482,-0.82713264,27.252396,-28.372633,20.114643,17.303337,13.972018,11.036574,-14.958401,12.336017,-10.068795,1.6385084,1.7204833,-33.5942,-6.3788805,-21.980705,18.70685,0.2615674,-30.31804,4.3593388,-14.082997,26.805012,1.4672234,-3.303613,6.8126826,-2.4313662,-31.81049,-15.715383,-17.348146,5.3391404,19.607506],\"type\":\"scatter3d\"}],                        {\"template\":{\"data\":{\"histogram2dcontour\":[{\"type\":\"histogram2dcontour\",\"colorbar\":{\"outlinewidth\":0,\"ticks\":\"\"},\"colorscale\":[[0.0,\"#0d0887\"],[0.1111111111111111,\"#46039f\"],[0.2222222222222222,\"#7201a8\"],[0.3333333333333333,\"#9c179e\"],[0.4444444444444444,\"#bd3786\"],[0.5555555555555556,\"#d8576b\"],[0.6666666666666666,\"#ed7953\"],[0.7777777777777778,\"#fb9f3a\"],[0.8888888888888888,\"#fdca26\"],[1.0,\"#f0f921\"]]}],\"choropleth\":[{\"type\":\"choropleth\",\"colorbar\":{\"outlinewidth\":0,\"ticks\":\"\"}}],\"histogram2d\":[{\"type\":\"histogram2d\",\"colorbar\":{\"outlinewidth\":0,\"ticks\":\"\"},\"colorscale\":[[0.0,\"#0d0887\"],[0.1111111111111111,\"#46039f\"],[0.2222222222222222,\"#7201a8\"],[0.3333333333333333,\"#9c179e\"],[0.4444444444444444,\"#bd3786\"],[0.5555555555555556,\"#d8576b\"],[0.6666666666666666,\"#ed7953\"],[0.7777777777777778,\"#fb9f3a\"],[0.8888888888888888,\"#fdca26\"],[1.0,\"#f0f921\"]]}],\"heatmap\":[{\"type\":\"heatmap\",\"colorbar\":{\"outlinewidth\":0,\"ticks\":\"\"},\"colorscale\":[[0.0,\"#0d0887\"],[0.1111111111111111,\"#46039f\"],[0.2222222222222222,\"#7201a8\"],[0.3333333333333333,\"#9c179e\"],[0.4444444444444444,\"#bd3786\"],[0.5555555555555556,\"#d8576b\"],[0.6666666666666666,\"#ed7953\"],[0.7777777777777778,\"#fb9f3a\"],[0.8888888888888888,\"#fdca26\"],[1.0,\"#f0f921\"]]}],\"heatmapgl\":[{\"type\":\"heatmapgl\",\"colorbar\":{\"outlinewidth\":0,\"ticks\":\"\"},\"colorscale\":[[0.0,\"#0d0887\"],[0.1111111111111111,\"#46039f\"],[0.2222222222222222,\"#7201a8\"],[0.3333333333333333,\"#9c179e\"],[0.4444444444444444,\"#bd3786\"],[0.5555555555555556,\"#d8576b\"],[0.6666666666666666,\"#ed7953\"],[0.7777777777777778,\"#fb9f3a\"],[0.8888888888888888,\"#fdca26\"],[1.0,\"#f0f921\"]]}],\"contourcarpet\":[{\"type\":\"contourcarpet\",\"colorbar\":{\"outlinewidth\":0,\"ticks\":\"\"}}],\"contour\":[{\"type\":\"contour\",\"colorbar\":{\"outlinewidth\":0,\"ticks\":\"\"},\"colorscale\":[[0.0,\"#0d0887\"],[0.1111111111111111,\"#46039f\"],[0.2222222222222222,\"#7201a8\"],[0.3333333333333333,\"#9c179e\"],[0.4444444444444444,\"#bd3786\"],[0.5555555555555556,\"#d8576b\"],[0.6666666666666666,\"#ed7953\"],[0.7777777777777778,\"#fb9f3a\"],[0.8888888888888888,\"#fdca26\"],[1.0,\"#f0f921\"]]}],\"surface\":[{\"type\":\"surface\",\"colorbar\":{\"outlinewidth\":0,\"ticks\":\"\"},\"colorscale\":[[0.0,\"#0d0887\"],[0.1111111111111111,\"#46039f\"],[0.2222222222222222,\"#7201a8\"],[0.3333333333333333,\"#9c179e\"],[0.4444444444444444,\"#bd3786\"],[0.5555555555555556,\"#d8576b\"],[0.6666666666666666,\"#ed7953\"],[0.7777777777777778,\"#fb9f3a\"],[0.8888888888888888,\"#fdca26\"],[1.0,\"#f0f921\"]]}],\"mesh3d\":[{\"type\":\"mesh3d\",\"colorbar\":{\"outlinewidth\":0,\"ticks\":\"\"}}],\"scatter\":[{\"fillpattern\":{\"fillmode\":\"overlay\",\"size\":10,\"solidity\":0.2},\"type\":\"scatter\"}],\"parcoords\":[{\"type\":\"parcoords\",\"line\":{\"colorbar\":{\"outlinewidth\":0,\"ticks\":\"\"}}}],\"scatterpolargl\":[{\"type\":\"scatterpolargl\",\"marker\":{\"colorbar\":{\"outlinewidth\":0,\"ticks\":\"\"}}}],\"bar\":[{\"error_x\":{\"color\":\"#2a3f5f\"},\"error_y\":{\"color\":\"#2a3f5f\"},\"marker\":{\"line\":{\"color\":\"#E5ECF6\",\"width\":0.5},\"pattern\":{\"fillmode\":\"overlay\",\"size\":10,\"solidity\":0.2}},\"type\":\"bar\"}],\"scattergeo\":[{\"type\":\"scattergeo\",\"marker\":{\"colorbar\":{\"outlinewidth\":0,\"ticks\":\"\"}}}],\"scatterpolar\":[{\"type\":\"scatterpolar\",\"marker\":{\"colorbar\":{\"outlinewidth\":0,\"ticks\":\"\"}}}],\"histogram\":[{\"marker\":{\"pattern\":{\"fillmode\":\"overlay\",\"size\":10,\"solidity\":0.2}},\"type\":\"histogram\"}],\"scattergl\":[{\"type\":\"scattergl\",\"marker\":{\"colorbar\":{\"outlinewidth\":0,\"ticks\":\"\"}}}],\"scatter3d\":[{\"type\":\"scatter3d\",\"line\":{\"colorbar\":{\"outlinewidth\":0,\"ticks\":\"\"}},\"marker\":{\"colorbar\":{\"outlinewidth\":0,\"ticks\":\"\"}}}],\"scattermapbox\":[{\"type\":\"scattermapbox\",\"marker\":{\"colorbar\":{\"outlinewidth\":0,\"ticks\":\"\"}}}],\"scatterternary\":[{\"type\":\"scatterternary\",\"marker\":{\"colorbar\":{\"outlinewidth\":0,\"ticks\":\"\"}}}],\"scattercarpet\":[{\"type\":\"scattercarpet\",\"marker\":{\"colorbar\":{\"outlinewidth\":0,\"ticks\":\"\"}}}],\"carpet\":[{\"aaxis\":{\"endlinecolor\":\"#2a3f5f\",\"gridcolor\":\"white\",\"linecolor\":\"white\",\"minorgridcolor\":\"white\",\"startlinecolor\":\"#2a3f5f\"},\"baxis\":{\"endlinecolor\":\"#2a3f5f\",\"gridcolor\":\"white\",\"linecolor\":\"white\",\"minorgridcolor\":\"white\",\"startlinecolor\":\"#2a3f5f\"},\"type\":\"carpet\"}],\"table\":[{\"cells\":{\"fill\":{\"color\":\"#EBF0F8\"},\"line\":{\"color\":\"white\"}},\"header\":{\"fill\":{\"color\":\"#C8D4E3\"},\"line\":{\"color\":\"white\"}},\"type\":\"table\"}],\"barpolar\":[{\"marker\":{\"line\":{\"color\":\"#E5ECF6\",\"width\":0.5},\"pattern\":{\"fillmode\":\"overlay\",\"size\":10,\"solidity\":0.2}},\"type\":\"barpolar\"}],\"pie\":[{\"automargin\":true,\"type\":\"pie\"}]},\"layout\":{\"autotypenumbers\":\"strict\",\"colorway\":[\"#636efa\",\"#EF553B\",\"#00cc96\",\"#ab63fa\",\"#FFA15A\",\"#19d3f3\",\"#FF6692\",\"#B6E880\",\"#FF97FF\",\"#FECB52\"],\"font\":{\"color\":\"#2a3f5f\"},\"hovermode\":\"closest\",\"hoverlabel\":{\"align\":\"left\"},\"paper_bgcolor\":\"white\",\"plot_bgcolor\":\"#E5ECF6\",\"polar\":{\"bgcolor\":\"#E5ECF6\",\"angularaxis\":{\"gridcolor\":\"white\",\"linecolor\":\"white\",\"ticks\":\"\"},\"radialaxis\":{\"gridcolor\":\"white\",\"linecolor\":\"white\",\"ticks\":\"\"}},\"ternary\":{\"bgcolor\":\"#E5ECF6\",\"aaxis\":{\"gridcolor\":\"white\",\"linecolor\":\"white\",\"ticks\":\"\"},\"baxis\":{\"gridcolor\":\"white\",\"linecolor\":\"white\",\"ticks\":\"\"},\"caxis\":{\"gridcolor\":\"white\",\"linecolor\":\"white\",\"ticks\":\"\"}},\"coloraxis\":{\"colorbar\":{\"outlinewidth\":0,\"ticks\":\"\"}},\"colorscale\":{\"sequential\":[[0.0,\"#0d0887\"],[0.1111111111111111,\"#46039f\"],[0.2222222222222222,\"#7201a8\"],[0.3333333333333333,\"#9c179e\"],[0.4444444444444444,\"#bd3786\"],[0.5555555555555556,\"#d8576b\"],[0.6666666666666666,\"#ed7953\"],[0.7777777777777778,\"#fb9f3a\"],[0.8888888888888888,\"#fdca26\"],[1.0,\"#f0f921\"]],\"sequentialminus\":[[0.0,\"#0d0887\"],[0.1111111111111111,\"#46039f\"],[0.2222222222222222,\"#7201a8\"],[0.3333333333333333,\"#9c179e\"],[0.4444444444444444,\"#bd3786\"],[0.5555555555555556,\"#d8576b\"],[0.6666666666666666,\"#ed7953\"],[0.7777777777777778,\"#fb9f3a\"],[0.8888888888888888,\"#fdca26\"],[1.0,\"#f0f921\"]],\"diverging\":[[0,\"#8e0152\"],[0.1,\"#c51b7d\"],[0.2,\"#de77ae\"],[0.3,\"#f1b6da\"],[0.4,\"#fde0ef\"],[0.5,\"#f7f7f7\"],[0.6,\"#e6f5d0\"],[0.7,\"#b8e186\"],[0.8,\"#7fbc41\"],[0.9,\"#4d9221\"],[1,\"#276419\"]]},\"xaxis\":{\"gridcolor\":\"white\",\"linecolor\":\"white\",\"ticks\":\"\",\"title\":{\"standoff\":15},\"zerolinecolor\":\"white\",\"automargin\":true,\"zerolinewidth\":2},\"yaxis\":{\"gridcolor\":\"white\",\"linecolor\":\"white\",\"ticks\":\"\",\"title\":{\"standoff\":15},\"zerolinecolor\":\"white\",\"automargin\":true,\"zerolinewidth\":2},\"scene\":{\"xaxis\":{\"backgroundcolor\":\"#E5ECF6\",\"gridcolor\":\"white\",\"linecolor\":\"white\",\"showbackground\":true,\"ticks\":\"\",\"zerolinecolor\":\"white\",\"gridwidth\":2},\"yaxis\":{\"backgroundcolor\":\"#E5ECF6\",\"gridcolor\":\"white\",\"linecolor\":\"white\",\"showbackground\":true,\"ticks\":\"\",\"zerolinecolor\":\"white\",\"gridwidth\":2},\"zaxis\":{\"backgroundcolor\":\"#E5ECF6\",\"gridcolor\":\"white\",\"linecolor\":\"white\",\"showbackground\":true,\"ticks\":\"\",\"zerolinecolor\":\"white\",\"gridwidth\":2}},\"shapedefaults\":{\"line\":{\"color\":\"#2a3f5f\"}},\"annotationdefaults\":{\"arrowcolor\":\"#2a3f5f\",\"arrowhead\":0,\"arrowwidth\":1},\"geo\":{\"bgcolor\":\"white\",\"landcolor\":\"#E5ECF6\",\"subunitcolor\":\"white\",\"showland\":true,\"showlakes\":true,\"lakecolor\":\"white\"},\"title\":{\"x\":0.05},\"mapbox\":{\"style\":\"light\"}}},\"scene\":{\"domain\":{\"x\":[0.0,1.0],\"y\":[0.0,1.0]},\"xaxis\":{\"title\":{\"text\":\"x\"}},\"yaxis\":{\"title\":{\"text\":\"y\"}},\"zaxis\":{\"title\":{\"text\":\"z\"}}},\"legend\":{\"tracegroupgap\":0},\"margin\":{\"t\":60}},                        {\"responsive\": true}                    ).then(function(){\n",
              "                            \n",
              "var gd = document.getElementById('491854b2-ac94-4008-a7f5-7f82eba60123');\n",
              "var x = new MutationObserver(function (mutations, observer) {{\n",
              "        var display = window.getComputedStyle(gd).display;\n",
              "        if (!display || display === 'none') {{\n",
              "            console.log([gd, 'removed!']);\n",
              "            Plotly.purge(gd);\n",
              "            observer.disconnect();\n",
              "        }}\n",
              "}});\n",
              "\n",
              "// Listen for the removal of the full notebook cells\n",
              "var notebookContainer = gd.closest('#notebook-container');\n",
              "if (notebookContainer) {{\n",
              "    x.observe(notebookContainer, {childList: true});\n",
              "}}\n",
              "\n",
              "// Listen for the clearing of the current output cell\n",
              "var outputEl = gd.closest('.output');\n",
              "if (outputEl) {{\n",
              "    x.observe(outputEl, {childList: true});\n",
              "}}\n",
              "\n",
              "                        })                };                            </script>        </div>\n",
              "</body>\n",
              "</html>"
            ]
          },
          "metadata": {}
        }
      ],
      "source": [
        "# Graficar los embedddings en 3D\n",
        "\n",
        "vecs, labels = reduce_dimensions(w2v_model,3)\n",
        "\n",
        "fig = px.scatter_3d(x=vecs[:MAX_WORDS,0], y=vecs[:MAX_WORDS,1], z=vecs[:MAX_WORDS,2],text=labels[:MAX_WORDS])\n",
        "fig.update_traces(marker_size = 2)\n",
        "fig.show(renderer=\"colab\") # esto para plotly en colab"
      ]
    },
    {
      "cell_type": "code",
      "execution_count": null,
      "metadata": {
        "id": "o6VrP51fqLSm"
      },
      "outputs": [],
      "source": [
        "# También se pueden guardar los vectores y labels como tsv para graficar en\n",
        "# http://projector.tensorflow.org/\n",
        "\n",
        "\n",
        "vectors = np.asarray(w2v_model.wv.vectors)\n",
        "labels = list(w2v_model.wv.index_to_key)\n",
        "\n",
        "np.savetxt(\"vectors.tsv\", vectors, delimiter=\"\\t\")\n",
        "\n",
        "with open(\"labels.tsv\", \"w\") as fp:\n",
        "    for item in labels:\n",
        "        fp.write(\"%s\\n\" % item)"
      ]
    },
    {
      "cell_type": "markdown",
      "metadata": {
        "id": "yMM_SHSaZ9N-"
      },
      "source": [
        "### Alumno"
      ]
    },
    {
      "cell_type": "markdown",
      "metadata": {
        "id": "WivQZ3ZCZ9N_"
      },
      "source": [
        "- Crear sus propios vectores con Gensim basado en lo visto en clase con otro dataset.\n",
        "- Probar términos de interés y explicar similitudes en el espacio de embeddings (sacar conclusiones entre palabras similitudes y diferencias).\n",
        "- Graficarlos.\n",
        "- Obtener conclusiones.\n",
        "\n",
        "# Resolucion Desafio 2:"
      ]
    },
    {
      "cell_type": "code",
      "source": [
        "import os\n",
        "import platform\n",
        "import multiprocessing\n",
        "from gensim.models import Word2Vec\n",
        "\n",
        "# Descargar el dataset si no existe\n",
        "if not os.path.exists(\"datasets_2\"):\n",
        "    if not os.path.exists(\"datasets.zip\"):\n",
        "        !wget -O datasets_2.zip https://github.com/Nico-Werner/ceia-procesamiento_del_lenguaje_natural/raw/main/datasets_2.zip\n",
        "    !unzip -q datasets_2.zip\n",
        "else:\n",
        "    print(\"El dataset ya se encuentra descargado.\")\n",
        "\n",
        "# Listar archivos disponibles\n",
        "print(\"Archivos disponibles en datasets:\")\n",
        "print(os.listdir(\"datasets\"))"
      ],
      "metadata": {
        "colab": {
          "base_uri": "https://localhost:8080/"
        },
        "id": "_8lDWFB-Ia0s",
        "outputId": "5c30f35c-ccac-4b93-d393-ca8c6c99792c"
      },
      "execution_count": 9,
      "outputs": [
        {
          "output_type": "stream",
          "name": "stdout",
          "text": [
            "--2025-06-18 19:02:45--  https://github.com/Nico-Werner/ceia-procesamiento_del_lenguaje_natural/raw/main/datasets_2.zip\n",
            "Resolving github.com (github.com)... 140.82.113.4\n",
            "Connecting to github.com (github.com)|140.82.113.4|:443... connected.\n",
            "HTTP request sent, awaiting response... 302 Found\n",
            "Location: https://raw.githubusercontent.com/Nico-Werner/ceia-procesamiento_del_lenguaje_natural/main/datasets_2.zip [following]\n",
            "--2025-06-18 19:02:45--  https://raw.githubusercontent.com/Nico-Werner/ceia-procesamiento_del_lenguaje_natural/main/datasets_2.zip\n",
            "Resolving raw.githubusercontent.com (raw.githubusercontent.com)... 185.199.111.133, 185.199.109.133, 185.199.108.133, ...\n",
            "Connecting to raw.githubusercontent.com (raw.githubusercontent.com)|185.199.111.133|:443... connected.\n",
            "HTTP request sent, awaiting response... 200 OK\n",
            "Length: 2561470 (2.4M) [application/zip]\n",
            "Saving to: ‘datasets_2.zip’\n",
            "\n",
            "datasets_2.zip      100%[===================>]   2.44M  --.-KB/s    in 0.1s    \n",
            "\n",
            "2025-06-18 19:02:45 (24.6 MB/s) - ‘datasets_2.zip’ saved [2561470/2561470]\n",
            "\n",
            "replace datasets/bleak-house.txt? [y]es, [n]o, [A]ll, [N]one, [r]ename: A\n",
            "Archivos disponibles en datasets:\n",
            "['frankenstein.txt', 'pride-and-prejudice.txt', 'a-room-with-a-view.txt', 'middlemarch.txt', 'moby-dick.txt', '.DS_Store', 'little-women.txt', 'bleak-house.txt', 'romeo-and-juliet.txt']\n"
          ]
        }
      ]
    },
    {
      "cell_type": "code",
      "source": [
        "import pandas as pd\n",
        "from tensorflow.keras.preprocessing.text import text_to_word_sequence\n",
        "\n",
        "\n",
        "# Seleccionamos uno de los libros\n",
        "archivo = \"datasets/frankenstein.txt\"\n",
        "\n",
        "# Leemos el libro\n",
        "with open(archivo, \"r\", encoding=\"utf-8\") as f:\n",
        "    oraciones = f.readlines()\n",
        "\n",
        "print(\"Cantidad de oraciones:\", len(oraciones))\n",
        "print(\"Ejemplo de oración:\", oraciones[0])\n",
        "\n",
        "# Tokenizamos oraciones\n",
        "sentence_tokens = []\n",
        "for oracion in oraciones:\n",
        "    tokens = text_to_word_sequence(oracion)\n",
        "    if tokens:  # evitar oraciones vacías\n",
        "        sentence_tokens.append(tokens)\n",
        "\n",
        "print(\"Ejemplo de tokens:\", sentence_tokens[0])"
      ],
      "metadata": {
        "colab": {
          "base_uri": "https://localhost:8080/"
        },
        "id": "pzOd5HZxJm-K",
        "outputId": "8860c3d2-7e94-43ce-c24f-2a72d96248cb"
      },
      "execution_count": 11,
      "outputs": [
        {
          "output_type": "stream",
          "name": "stdout",
          "text": [
            "Cantidad de oraciones: 7736\n",
            "Ejemplo de oración: The Project Gutenberg eBook of Frankenstein; Or, The Modern Prometheus\n",
            "\n",
            "Ejemplo de tokens: ['the', 'project', 'gutenberg', 'ebook', 'of', 'frankenstein', 'or', 'the', 'modern', 'prometheus']\n"
          ]
        }
      ]
    },
    {
      "cell_type": "code",
      "source": [
        "from gensim.models import Word2Vec\n",
        "from gensim.models.callbacks import CallbackAny2Vec\n",
        "\n",
        "# Callback para mostrar el loss por época\n",
        "class callback(CallbackAny2Vec):\n",
        "    def __init__(self):\n",
        "        self.epoch = 0\n",
        "    def on_epoch_end(self, model):\n",
        "        loss = model.get_latest_training_loss()\n",
        "        if self.epoch == 0:\n",
        "            print('Loss after epoch {}: {}'.format(self.epoch, loss))\n",
        "        else:\n",
        "            print('Loss after epoch {}: {}'.format(self.epoch, loss- self.loss_previous_step))\n",
        "        self.epoch += 1\n",
        "        self.loss_previous_step = loss\n",
        "\n",
        "# Creamos el modelo a usar\n",
        "w2v_model = Word2Vec(\n",
        "    min_count=3,\n",
        "    window=3,\n",
        "    vector_size=100,\n",
        "    negative=10,\n",
        "    workers=2,\n",
        "    sg=1\n",
        ")\n",
        "\n",
        "w2v_model.build_vocab(sentence_tokens)\n",
        "print(\"Cantidad de documentos en el corpus:\", w2v_model.corpus_count)\n",
        "print(\"Cantidad de palabras distintas:\", len(w2v_model.wv.index_to_key))\n",
        "\n",
        "# Entrenamiento\n",
        "w2v_model.train(\n",
        "    sentence_tokens,\n",
        "    total_examples=w2v_model.corpus_count,\n",
        "    epochs=100,\n",
        "    compute_loss=True,\n",
        "    callbacks=[callback()]\n",
        ")"
      ],
      "metadata": {
        "colab": {
          "base_uri": "https://localhost:8080/"
        },
        "id": "vwM4lvT1KCXm",
        "outputId": "3c935b37-c470-43e3-af86-69db5664077e"
      },
      "execution_count": 20,
      "outputs": [
        {
          "output_type": "stream",
          "name": "stdout",
          "text": [
            "Cantidad de documentos en el corpus: 6729\n",
            "Cantidad de palabras distintas: 3070\n",
            "Loss after epoch 0: 378317.59375\n",
            "Loss after epoch 1: 273142.46875\n",
            "Loss after epoch 2: 252759.8125\n",
            "Loss after epoch 3: 323622.5\n",
            "Loss after epoch 4: 257685.125\n",
            "Loss after epoch 5: 249607.5\n",
            "Loss after epoch 6: 312928.125\n",
            "Loss after epoch 7: 215432.375\n",
            "Loss after epoch 8: 203424.75\n",
            "Loss after epoch 9: 254024.25\n",
            "Loss after epoch 10: 209696.75\n",
            "Loss after epoch 11: 197669.0\n",
            "Loss after epoch 12: 195523.25\n",
            "Loss after epoch 13: 203219.5\n",
            "Loss after epoch 14: 187283.75\n",
            "Loss after epoch 15: 189735.5\n",
            "Loss after epoch 16: 186187.75\n",
            "Loss after epoch 17: 175429.5\n",
            "Loss after epoch 18: 203982.0\n",
            "Loss after epoch 19: 169743.0\n",
            "Loss after epoch 20: 159163.5\n",
            "Loss after epoch 21: 157455.0\n",
            "Loss after epoch 22: 154498.0\n",
            "Loss after epoch 23: 157394.0\n",
            "Loss after epoch 24: 162705.0\n",
            "Loss after epoch 25: 162612.0\n",
            "Loss after epoch 26: 152871.0\n",
            "Loss after epoch 27: 160808.5\n",
            "Loss after epoch 28: 159713.5\n",
            "Loss after epoch 29: 151362.5\n",
            "Loss after epoch 30: 149489.5\n",
            "Loss after epoch 31: 149402.5\n",
            "Loss after epoch 32: 149363.5\n",
            "Loss after epoch 33: 147452.0\n",
            "Loss after epoch 34: 153038.0\n",
            "Loss after epoch 35: 146272.0\n",
            "Loss after epoch 36: 145813.0\n",
            "Loss after epoch 37: 144522.5\n",
            "Loss after epoch 38: 151956.0\n",
            "Loss after epoch 39: 145104.5\n",
            "Loss after epoch 40: 152673.0\n",
            "Loss after epoch 41: 143528.5\n",
            "Loss after epoch 42: 149031.0\n",
            "Loss after epoch 43: 142309.5\n",
            "Loss after epoch 44: 145358.0\n",
            "Loss after epoch 45: 134270.0\n",
            "Loss after epoch 46: 126703.0\n",
            "Loss after epoch 47: 132542.0\n",
            "Loss after epoch 48: 125819.0\n",
            "Loss after epoch 49: 132773.0\n",
            "Loss after epoch 50: 126757.0\n",
            "Loss after epoch 51: 125358.0\n",
            "Loss after epoch 52: 131450.0\n",
            "Loss after epoch 53: 125090.0\n",
            "Loss after epoch 54: 128989.0\n",
            "Loss after epoch 55: 125101.0\n",
            "Loss after epoch 56: 131790.0\n",
            "Loss after epoch 57: 123292.0\n",
            "Loss after epoch 58: 122665.0\n",
            "Loss after epoch 59: 129278.0\n",
            "Loss after epoch 60: 130187.0\n",
            "Loss after epoch 61: 122123.0\n",
            "Loss after epoch 62: 121611.0\n",
            "Loss after epoch 63: 127763.0\n",
            "Loss after epoch 64: 126959.0\n",
            "Loss after epoch 65: 121294.0\n",
            "Loss after epoch 66: 124856.0\n",
            "Loss after epoch 67: 153818.0\n",
            "Loss after epoch 68: 126376.0\n",
            "Loss after epoch 69: 125389.0\n",
            "Loss after epoch 70: 120110.0\n",
            "Loss after epoch 71: 121794.0\n",
            "Loss after epoch 72: 119995.0\n",
            "Loss after epoch 73: 125815.0\n",
            "Loss after epoch 74: 124694.0\n",
            "Loss after epoch 75: 123536.0\n",
            "Loss after epoch 76: 123259.0\n",
            "Loss after epoch 77: 118613.0\n",
            "Loss after epoch 78: 124528.0\n",
            "Loss after epoch 79: 118537.0\n",
            "Loss after epoch 80: 123580.0\n",
            "Loss after epoch 81: 117369.0\n",
            "Loss after epoch 82: 123517.0\n",
            "Loss after epoch 83: 124171.0\n",
            "Loss after epoch 84: 124396.0\n",
            "Loss after epoch 85: 123184.0\n",
            "Loss after epoch 86: 122218.0\n",
            "Loss after epoch 87: 122218.0\n",
            "Loss after epoch 88: 116723.0\n",
            "Loss after epoch 89: 121026.0\n",
            "Loss after epoch 90: 121966.0\n",
            "Loss after epoch 91: 115466.0\n",
            "Loss after epoch 92: 120524.0\n",
            "Loss after epoch 93: 117485.0\n",
            "Loss after epoch 94: 122208.0\n",
            "Loss after epoch 95: 121447.0\n",
            "Loss after epoch 96: 116074.0\n",
            "Loss after epoch 97: 114604.0\n",
            "Loss after epoch 98: 121506.0\n",
            "Loss after epoch 99: 114377.0\n"
          ]
        },
        {
          "output_type": "execute_result",
          "data": {
            "text/plain": [
              "(5012906, 7867200)"
            ]
          },
          "metadata": {},
          "execution_count": 20
        }
      ]
    },
    {
      "cell_type": "markdown",
      "source": [
        "Lo dejamos en 100 epocas ya que pdemos ver que desde la 60 el loss se mueve entre 11 y 13"
      ],
      "metadata": {
        "id": "W3yoGeazm3dY"
      }
    },
    {
      "cell_type": "code",
      "source": [
        "words_of_interest = [\"frankenstein\", \"monster\", \"life\", \"death\", \"science\", \"love\", \"fear\", \"creation\", \"man\", \"woman\"]\n",
        "\n",
        "for word in words_of_interest:\n",
        "    if word in w2v_model.wv:\n",
        "        print(f\"\\nPalabras más similares a '{word}':\")\n",
        "        similars = w2v_model.wv.most_similar(word, topn=5)\n",
        "        for similar_word, similarity in similars:\n",
        "            print(f\"  {similar_word} (similitud: {similarity:.3f})\")\n",
        "    else:\n",
        "        print(f\"\\n'{word}' no está en el vocabulario del modelo.\")"
      ],
      "metadata": {
        "id": "u9De0Xm8KNBY",
        "colab": {
          "base_uri": "https://localhost:8080/"
        },
        "outputId": "2044d0b1-03fc-41c1-a435-b12d88968116"
      },
      "execution_count": 21,
      "outputs": [
        {
          "output_type": "stream",
          "name": "stdout",
          "text": [
            "\n",
            "Palabras más similares a 'frankenstein':\n",
            "  remind (similitud: 0.513)\n",
            "  farewell (similitud: 0.499)\n",
            "  prometheus (similitud: 0.489)\n",
            "  “is (similitud: 0.449)\n",
            "  hers (similitud: 0.448)\n",
            "\n",
            "Palabras más similares a 'monster':\n",
            "  seize (similitud: 0.558)\n",
            "  executed (similitud: 0.537)\n",
            "  apparition (similitud: 0.497)\n",
            "  wretch (similitud: 0.482)\n",
            "  dæmon (similitud: 0.477)\n",
            "\n",
            "Palabras más similares a 'life':\n",
            "  feelings (similitud: 0.455)\n",
            "  foe (similitud: 0.394)\n",
            "  lips (similitud: 0.393)\n",
            "  dwelling (similitud: 0.390)\n",
            "  dungeon (similitud: 0.380)\n",
            "\n",
            "Palabras más similares a 'death':\n",
            "  cruel (similitud: 0.475)\n",
            "  rob (similitud: 0.457)\n",
            "  poor (similitud: 0.453)\n",
            "  entering (similitud: 0.446)\n",
            "  midst (similitud: 0.435)\n",
            "\n",
            "Palabras más similares a 'science':\n",
            "  uses (similitud: 0.543)\n",
            "  masters (similitud: 0.485)\n",
            "  mathematics (similitud: 0.475)\n",
            "  book (similitud: 0.473)\n",
            "  lectures (similitud: 0.463)\n",
            "\n",
            "Palabras más similares a 'love':\n",
            "  tenderly (similitud: 0.576)\n",
            "  murderer (similitud: 0.510)\n",
            "  sympathise (similitud: 0.478)\n",
            "  superior (similitud: 0.452)\n",
            "  valued (similitud: 0.450)\n",
            "\n",
            "Palabras más similares a 'fear':\n",
            "  break (similitud: 0.497)\n",
            "  equal (similitud: 0.491)\n",
            "  kindness (similitud: 0.414)\n",
            "  disdain (similitud: 0.414)\n",
            "  rashly (similitud: 0.412)\n",
            "\n",
            "Palabras más similares a 'creation':\n",
            "  species (similitud: 0.534)\n",
            "  sympathies (similitud: 0.528)\n",
            "  affording (similitud: 0.463)\n",
            "  materials (similitud: 0.452)\n",
            "  temptation (similitud: 0.447)\n",
            "\n",
            "Palabras más similares a 'man':\n",
            "  old (similitud: 0.580)\n",
            "  neighbourhood (similitud: 0.463)\n",
            "  custom (similitud: 0.460)\n",
            "  harmony (similitud: 0.459)\n",
            "  burden (similitud: 0.442)\n",
            "\n",
            "Palabras más similares a 'woman':\n",
            "  “if (similitud: 0.541)\n",
            "  mean (similitud: 0.531)\n",
            "  custom (similitud: 0.487)\n",
            "  wreck (similitud: 0.481)\n",
            "  fishermen (similitud: 0.477)\n"
          ]
        }
      ]
    },
    {
      "cell_type": "code",
      "source": [
        "from sklearn.decomposition import PCA\n",
        "import matplotlib.pyplot as plt\n",
        "\n",
        "words_to_plot = [w for w in words_of_interest if w in w2v_model.wv]\n",
        "word_vectors = [w2v_model.wv[w] for w in words_to_plot]\n",
        "\n",
        "pca = PCA(n_components=2)\n",
        "result = pca.fit_transform(word_vectors)\n",
        "\n",
        "plt.figure(figsize=(8, 6))\n",
        "plt.scatter(result[:, 0], result[:, 1])\n",
        "\n",
        "for i, word in enumerate(words_to_plot):\n",
        "    plt.annotate(word, xy=(result[i, 0], result[i, 1]), fontsize=12)\n",
        "plt.title(\"Visualización PCA de embeddings (Word2Vec)\")\n",
        "plt.grid(True)\n",
        "plt.show()"
      ],
      "metadata": {
        "colab": {
          "base_uri": "https://localhost:8080/",
          "height": 545
        },
        "id": "2VkTCUkrcdfR",
        "outputId": "5cfef27f-7703-48e2-a520-cba328b0a3e4"
      },
      "execution_count": 22,
      "outputs": [
        {
          "output_type": "display_data",
          "data": {
            "text/plain": [
              "<Figure size 800x600 with 1 Axes>"
            ],
            "image/png": "[encoded data removed]"
          },
          "metadata": {}
        }
      ]
    },
    {
      "cell_type": "markdown",
      "source": [
        "### Conclusiones\n",
        "\n",
        "- El modelo Word2Vec, entrenado sobre el libro \"Frankenstein\", logro captar relaciones semanticas interesantes entre los terminos seleccionados.\n",
        "- Podemos ver que dentro del grafico de embeddings, palabras relacionadas en cierta forma, como \"death\" y \"life\", aparecen muy cerca, lo que muestra el peso de estos conceptos en el libro.\n",
        "- Palabras como \"man\", \"life\", \"science\", \"creation\" y \"monster\" tambien tienden a agruparse, sugiriendo que el modelo identificó correctamente los tópicos principales del libro.\n",
        "- Las similitudes encontradas refuerzan estas relaciones:  \n",
        "  - \"monster\" es más similar a \"daemon\", \"wretch\", lo que coincide con algo negativo en general, pero ademas en el libro.\n",
        "  - \"love\" se relaciona con palabras como \"murderer\" y \"sympathise\", mostrando como este es tomado dentro del libro.\n",
        "- En conclusión, los embeddings muestra relacion semanticas que son bastante acordes a lo que es el libro en si, lo cual se pudo asociar correctamente."
      ],
      "metadata": {
        "id": "0FOeCROfebO-"
      }
    },
    {
      "cell_type": "code",
      "source": [],
      "metadata": {
        "id": "ho2NyxS_gPUM"
      },
      "execution_count": null,
      "outputs": []
    }
  ],
  "metadata": {
    "colab": {
      "provenance": []
    },
    "kernelspec": {
      "display_name": "Python 3 (ipykernel)",
      "language": "python",
      "name": "python3"
    },
    "language_info": {
      "codemirror_mode": {
        "name": "ipython",
        "version": 3
      },
      "file_extension": ".py",
      "mimetype": "text/x-python",
      "name": "python",
      "nbconvert_exporter": "python",
      "pygments_lexer": "ipython3",
      "version": "3.10.6"
    }
  },
  "nbformat": 4,
  "nbformat_minor": 0
}